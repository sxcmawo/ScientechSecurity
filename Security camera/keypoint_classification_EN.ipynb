{
 "cells": [
  {
   "cell_type": "code",
   "execution_count": 2,
   "metadata": {
    "id": "igMyGnjE9hEp"
   },
   "outputs": [
    {
     "name": "stdout",
     "output_type": "stream",
     "text": [
      "Collecting scikit-learn\n",
      "  Downloading scikit_learn-1.3.2-cp311-cp311-macosx_12_0_arm64.whl.metadata (11 kB)\n",
      "Requirement already satisfied: numpy<2.0,>=1.17.3 in /Library/Frameworks/Python.framework/Versions/3.11/lib/python3.11/site-packages (from scikit-learn) (1.26.1)\n",
      "Requirement already satisfied: scipy>=1.5.0 in /Library/Frameworks/Python.framework/Versions/3.11/lib/python3.11/site-packages (from scikit-learn) (1.11.3)\n",
      "Collecting joblib>=1.1.1 (from scikit-learn)\n",
      "  Downloading joblib-1.3.2-py3-none-any.whl.metadata (5.4 kB)\n",
      "Collecting threadpoolctl>=2.0.0 (from scikit-learn)\n",
      "  Downloading threadpoolctl-3.2.0-py3-none-any.whl.metadata (10.0 kB)\n",
      "Downloading scikit_learn-1.3.2-cp311-cp311-macosx_12_0_arm64.whl (9.4 MB)\n",
      "\u001b[2K   \u001b[90m━━━━━━━━━━━━━━━━━━━━━━━━━━━━━━━━━━━━━━━━\u001b[0m \u001b[32m9.4/9.4 MB\u001b[0m \u001b[31m1.6 MB/s\u001b[0m eta \u001b[36m0:00:00\u001b[0m00:01\u001b[0m00:01\u001b[0m0m\n",
      "\u001b[?25hDownloading joblib-1.3.2-py3-none-any.whl (302 kB)\n",
      "\u001b[2K   \u001b[90m━━━━━━━━━━━━━━━━━━━━━━━━━━━━━━━━━━━━━━━━\u001b[0m \u001b[32m302.2/302.2 kB\u001b[0m \u001b[31m2.4 MB/s\u001b[0m eta \u001b[36m0:00:00\u001b[0ma \u001b[36m0:00:01\u001b[0m\n",
      "\u001b[?25hDownloading threadpoolctl-3.2.0-py3-none-any.whl (15 kB)\n",
      "Installing collected packages: threadpoolctl, joblib, scikit-learn\n",
      "Successfully installed joblib-1.3.2 scikit-learn-1.3.2 threadpoolctl-3.2.0\n",
      "\n",
      "\u001b[1m[\u001b[0m\u001b[34;49mnotice\u001b[0m\u001b[1;39;49m]\u001b[0m\u001b[39;49m A new release of pip is available: \u001b[0m\u001b[31;49m23.3\u001b[0m\u001b[39;49m -> \u001b[0m\u001b[32;49m23.3.1\u001b[0m\n",
      "\u001b[1m[\u001b[0m\u001b[34;49mnotice\u001b[0m\u001b[1;39;49m]\u001b[0m\u001b[39;49m To update, run: \u001b[0m\u001b[32;49mpip install --upgrade pip\u001b[0m\n"
     ]
    }
   ],
   "source": [
    "import sys\n",
    "!{sys.executable} -m pip install scikit-learn\n"
   ]
  },
  {
   "cell_type": "code",
   "execution_count": 3,
   "metadata": {
    "id": "igMyGnjE9hEp"
   },
   "outputs": [],
   "source": [
    "import csv\n",
    "\n",
    "import numpy as np\n",
    "import tensorflow as tf\n",
    "from sklearn.model_selection import train_test_split\n",
    "\n",
    "RANDOM_SEED = 42"
   ]
  },
  {
   "cell_type": "markdown",
   "metadata": {
    "id": "t2HDvhIu9hEr"
   },
   "source": [
    "# Specify each path"
   ]
  },
  {
   "cell_type": "code",
   "execution_count": 4,
   "metadata": {
    "id": "9NvZP2Zn9hEy"
   },
   "outputs": [],
   "source": [
    "dataset = 'model/keypoint_classifier/keypoint.csv'\n",
    "model_save_path = 'model/keypoint_classifier/keypoint_classifier.hdf5'\n",
    "tflite_save_path = 'model/keypoint_classifier/keypoint_classifier.tflite'"
   ]
  },
  {
   "cell_type": "markdown",
   "metadata": {
    "id": "s5oMH7x19hEz"
   },
   "source": [
    "# Set number of classes"
   ]
  },
  {
   "cell_type": "code",
   "execution_count": 5,
   "metadata": {
    "id": "du4kodXL9hEz"
   },
   "outputs": [],
   "source": [
    "NUM_CLASSES = 5"
   ]
  },
  {
   "cell_type": "markdown",
   "metadata": {
    "id": "XjnL0uso9hEz"
   },
   "source": [
    "# Dataset reading"
   ]
  },
  {
   "cell_type": "code",
   "execution_count": 6,
   "metadata": {
    "id": "QT5ZqtEz9hE0"
   },
   "outputs": [],
   "source": [
    "X_dataset = np.loadtxt(dataset, delimiter=',', dtype='float32', usecols=list(range(1, (21 * 2) + 1)))"
   ]
  },
  {
   "cell_type": "code",
   "execution_count": 7,
   "metadata": {
    "id": "QmoKFsp49hE0"
   },
   "outputs": [],
   "source": [
    "y_dataset = np.loadtxt(dataset, delimiter=',', dtype='int32', usecols=(0))"
   ]
  },
  {
   "cell_type": "code",
   "execution_count": 8,
   "metadata": {
    "id": "xQU7JTZ_9hE0"
   },
   "outputs": [],
   "source": [
    "X_train, X_test, y_train, y_test = train_test_split(X_dataset, y_dataset, train_size=0.75, random_state=RANDOM_SEED)"
   ]
  },
  {
   "cell_type": "markdown",
   "metadata": {
    "id": "mxK_lETT9hE0"
   },
   "source": [
    "# Model building"
   ]
  },
  {
   "cell_type": "code",
   "execution_count": 9,
   "metadata": {
    "id": "vHBmUf1t9hE1"
   },
   "outputs": [],
   "source": [
    "model = tf.keras.models.Sequential([\n",
    "    tf.keras.layers.Input((21 * 2, )),\n",
    "    tf.keras.layers.Dropout(0.2),\n",
    "    tf.keras.layers.Dense(20, activation='relu'),\n",
    "    tf.keras.layers.Dropout(0.4),\n",
    "    tf.keras.layers.Dense(10, activation='relu'),\n",
    "    tf.keras.layers.Dense(NUM_CLASSES, activation='softmax')\n",
    "])"
   ]
  },
  {
   "cell_type": "code",
   "execution_count": 10,
   "metadata": {
    "colab": {
     "base_uri": "https://localhost:8080/"
    },
    "id": "ypqky9tc9hE1",
    "outputId": "5db082bb-30e3-4110-bf63-a1ee777ecd46"
   },
   "outputs": [
    {
     "name": "stdout",
     "output_type": "stream",
     "text": [
      "Model: \"sequential\"\n",
      "_________________________________________________________________\n",
      " Layer (type)                Output Shape              Param #   \n",
      "=================================================================\n",
      " dropout (Dropout)           (None, 42)                0         \n",
      "                                                                 \n",
      " dense (Dense)               (None, 20)                860       \n",
      "                                                                 \n",
      " dropout_1 (Dropout)         (None, 20)                0         \n",
      "                                                                 \n",
      " dense_1 (Dense)             (None, 10)                210       \n",
      "                                                                 \n",
      " dense_2 (Dense)             (None, 5)                 55        \n",
      "                                                                 \n",
      "=================================================================\n",
      "Total params: 1125 (4.39 KB)\n",
      "Trainable params: 1125 (4.39 KB)\n",
      "Non-trainable params: 0 (0.00 Byte)\n",
      "_________________________________________________________________\n"
     ]
    }
   ],
   "source": [
    "model.summary()  # tf.keras.utils.plot_model(model, show_shapes=True)"
   ]
  },
  {
   "cell_type": "code",
   "execution_count": 11,
   "metadata": {
    "id": "MbMjOflQ9hE1"
   },
   "outputs": [],
   "source": [
    "# Model checkpoint callback\n",
    "cp_callback = tf.keras.callbacks.ModelCheckpoint(\n",
    "    model_save_path, verbose=1, save_weights_only=False)\n",
    "# Callback for early stopping\n",
    "es_callback = tf.keras.callbacks.EarlyStopping(patience=20, verbose=1)"
   ]
  },
  {
   "cell_type": "code",
   "execution_count": 12,
   "metadata": {
    "id": "c3Dac0M_9hE2"
   },
   "outputs": [],
   "source": [
    "# Model compilation\n",
    "model.compile(\n",
    "    optimizer='adam',\n",
    "    loss='sparse_categorical_crossentropy',\n",
    "    metrics=['accuracy']\n",
    ")"
   ]
  },
  {
   "cell_type": "markdown",
   "metadata": {
    "id": "7XI0j1Iu9hE2"
   },
   "source": [
    "# Model training"
   ]
  },
  {
   "cell_type": "code",
   "execution_count": 13,
   "metadata": {
    "colab": {
     "base_uri": "https://localhost:8080/"
    },
    "id": "WirBl-JE9hE3",
    "outputId": "71b30ca2-8294-4d9d-8aa2-800d90d399de",
    "scrolled": true
   },
   "outputs": [
    {
     "name": "stdout",
     "output_type": "stream",
     "text": [
      "Epoch 1/1000\n",
      " 1/30 [>.............................] - ETA: 5s - loss: 1.9736 - accuracy: 0.0703\n",
      "Epoch 1: saving model to model/keypoint_classifier/keypoint_classifier.hdf5\n",
      "30/30 [==============================] - 0s 7ms/step - loss: 1.7367 - accuracy: 0.0875 - val_loss: 1.5803 - val_accuracy: 0.1211\n",
      "Epoch 2/1000\n",
      " 1/30 [>.............................] - ETA: 0s - loss: 1.6363 - accuracy: 0.1797\n",
      "Epoch 2: saving model to model/keypoint_classifier/keypoint_classifier.hdf5\n",
      "30/30 [==============================] - 0s 896us/step - loss: 1.5925 - accuracy: 0.1871 - val_loss: 1.5146 - val_accuracy: 0.3586\n",
      "Epoch 3/1000\n",
      " 1/30 [>.............................] - ETA: 0s - loss: 1.5766 - accuracy: 0.1953\n",
      "Epoch 3: saving model to model/keypoint_classifier/keypoint_classifier.hdf5\n",
      "30/30 [==============================] - 0s 936us/step - loss: 1.5191 - accuracy: 0.2770 - val_loss: 1.4395 - val_accuracy: 0.4477\n",
      "Epoch 4/1000\n",
      " 1/30 [>.............................] - ETA: 0s - loss: 1.5069 - accuracy: 0.2656\n",
      "Epoch 4: saving model to model/keypoint_classifier/keypoint_classifier.hdf5\n",
      "30/30 [==============================] - 0s 934us/step - loss: 1.4386 - accuracy: 0.3356 - val_loss: 1.3643 - val_accuracy: 0.4391\n",
      "Epoch 5/1000\n",
      " 1/30 [>.............................] - ETA: 0s - loss: 1.4040 - accuracy: 0.3125\n",
      "Epoch 5: saving model to model/keypoint_classifier/keypoint_classifier.hdf5\n",
      "30/30 [==============================] - 0s 883us/step - loss: 1.3861 - accuracy: 0.3606 - val_loss: 1.3112 - val_accuracy: 0.4664\n",
      "Epoch 6/1000\n",
      " 1/30 [>.............................] - ETA: 0s - loss: 1.3537 - accuracy: 0.3984\n",
      "Epoch 6: saving model to model/keypoint_classifier/keypoint_classifier.hdf5\n",
      "30/30 [==============================] - 0s 910us/step - loss: 1.3424 - accuracy: 0.3880 - val_loss: 1.2673 - val_accuracy: 0.5156\n",
      "Epoch 7/1000\n",
      " 1/30 [>.............................] - ETA: 0s - loss: 1.3453 - accuracy: 0.3516\n",
      "Epoch 7: saving model to model/keypoint_classifier/keypoint_classifier.hdf5\n",
      "30/30 [==============================] - 0s 884us/step - loss: 1.3042 - accuracy: 0.4109 - val_loss: 1.2218 - val_accuracy: 0.5531\n",
      "Epoch 8/1000\n",
      " 1/30 [>.............................] - ETA: 0s - loss: 1.2772 - accuracy: 0.4141\n",
      "Epoch 8: saving model to model/keypoint_classifier/keypoint_classifier.hdf5\n"
     ]
    },
    {
     "name": "stderr",
     "output_type": "stream",
     "text": [
      "/Library/Frameworks/Python.framework/Versions/3.11/lib/python3.11/site-packages/keras/src/engine/training.py:3103: UserWarning: You are saving your model as an HDF5 file via `model.save()`. This file format is considered legacy. We recommend using instead the native Keras format, e.g. `model.save('my_model.keras')`.\n",
      "  saving_api.save_model(\n"
     ]
    },
    {
     "name": "stdout",
     "output_type": "stream",
     "text": [
      "30/30 [==============================] - 0s 927us/step - loss: 1.2634 - accuracy: 0.4349 - val_loss: 1.1716 - val_accuracy: 0.5570\n",
      "Epoch 9/1000\n",
      " 1/30 [>.............................] - ETA: 0s - loss: 1.2051 - accuracy: 0.4766\n",
      "Epoch 9: saving model to model/keypoint_classifier/keypoint_classifier.hdf5\n",
      "30/30 [==============================] - 0s 898us/step - loss: 1.2258 - accuracy: 0.4575 - val_loss: 1.1234 - val_accuracy: 0.5531\n",
      "Epoch 10/1000\n",
      " 1/30 [>.............................] - ETA: 0s - loss: 1.2622 - accuracy: 0.4688\n",
      "Epoch 10: saving model to model/keypoint_classifier/keypoint_classifier.hdf5\n",
      "30/30 [==============================] - 0s 849us/step - loss: 1.1941 - accuracy: 0.4588 - val_loss: 1.0746 - val_accuracy: 0.5555\n",
      "Epoch 11/1000\n",
      " 1/30 [>.............................] - ETA: 0s - loss: 1.1826 - accuracy: 0.4688\n",
      "Epoch 11: saving model to model/keypoint_classifier/keypoint_classifier.hdf5\n",
      "30/30 [==============================] - 0s 847us/step - loss: 1.1450 - accuracy: 0.4878 - val_loss: 1.0206 - val_accuracy: 0.5539\n",
      "Epoch 12/1000\n",
      " 1/30 [>.............................] - ETA: 0s - loss: 1.0845 - accuracy: 0.4609\n",
      "Epoch 12: saving model to model/keypoint_classifier/keypoint_classifier.hdf5\n",
      "30/30 [==============================] - 0s 909us/step - loss: 1.1208 - accuracy: 0.5021 - val_loss: 0.9640 - val_accuracy: 0.6141\n",
      "Epoch 13/1000\n",
      " 1/30 [>.............................] - ETA: 0s - loss: 1.0713 - accuracy: 0.5469\n",
      "Epoch 13: saving model to model/keypoint_classifier/keypoint_classifier.hdf5\n",
      "30/30 [==============================] - 0s 899us/step - loss: 1.0920 - accuracy: 0.5201 - val_loss: 0.9078 - val_accuracy: 0.6672\n",
      "Epoch 14/1000\n",
      " 1/30 [>.............................] - ETA: 0s - loss: 1.0299 - accuracy: 0.5547\n",
      "Epoch 14: saving model to model/keypoint_classifier/keypoint_classifier.hdf5\n",
      "30/30 [==============================] - 0s 934us/step - loss: 1.0574 - accuracy: 0.5305 - val_loss: 0.8598 - val_accuracy: 0.6797\n",
      "Epoch 15/1000\n",
      " 1/30 [>.............................] - ETA: 0s - loss: 1.0071 - accuracy: 0.5625\n",
      "Epoch 15: saving model to model/keypoint_classifier/keypoint_classifier.hdf5\n",
      "30/30 [==============================] - 0s 916us/step - loss: 1.0253 - accuracy: 0.5443 - val_loss: 0.8139 - val_accuracy: 0.7148\n",
      "Epoch 16/1000\n",
      " 1/30 [>.............................] - ETA: 0s - loss: 0.9601 - accuracy: 0.5938\n",
      "Epoch 16: saving model to model/keypoint_classifier/keypoint_classifier.hdf5\n",
      "30/30 [==============================] - 0s 891us/step - loss: 0.9935 - accuracy: 0.5662 - val_loss: 0.7740 - val_accuracy: 0.7219\n",
      "Epoch 17/1000\n",
      " 1/30 [>.............................] - ETA: 0s - loss: 0.9928 - accuracy: 0.5703\n",
      "Epoch 17: saving model to model/keypoint_classifier/keypoint_classifier.hdf5\n",
      "30/30 [==============================] - 0s 897us/step - loss: 0.9775 - accuracy: 0.5701 - val_loss: 0.7402 - val_accuracy: 0.7297\n",
      "Epoch 18/1000\n",
      " 1/30 [>.............................] - ETA: 0s - loss: 1.0134 - accuracy: 0.5312\n",
      "Epoch 18: saving model to model/keypoint_classifier/keypoint_classifier.hdf5\n",
      "30/30 [==============================] - 0s 942us/step - loss: 0.9600 - accuracy: 0.5808 - val_loss: 0.7102 - val_accuracy: 0.7414\n",
      "Epoch 19/1000\n",
      " 1/30 [>.............................] - ETA: 0s - loss: 0.8898 - accuracy: 0.6406\n",
      "Epoch 19: saving model to model/keypoint_classifier/keypoint_classifier.hdf5\n",
      "30/30 [==============================] - 0s 821us/step - loss: 0.9290 - accuracy: 0.6029 - val_loss: 0.6865 - val_accuracy: 0.7469\n",
      "Epoch 20/1000\n",
      " 1/30 [>.............................] - ETA: 0s - loss: 0.9229 - accuracy: 0.6172\n",
      "Epoch 20: saving model to model/keypoint_classifier/keypoint_classifier.hdf5\n",
      "30/30 [==============================] - 0s 909us/step - loss: 0.9337 - accuracy: 0.5818 - val_loss: 0.6680 - val_accuracy: 0.7414\n",
      "Epoch 21/1000\n",
      " 1/30 [>.............................] - ETA: 0s - loss: 0.9644 - accuracy: 0.5469\n",
      "Epoch 21: saving model to model/keypoint_classifier/keypoint_classifier.hdf5\n",
      "30/30 [==============================] - 0s 874us/step - loss: 0.8954 - accuracy: 0.5985 - val_loss: 0.6430 - val_accuracy: 0.7656\n",
      "Epoch 22/1000\n",
      " 1/30 [>.............................] - ETA: 0s - loss: 0.8811 - accuracy: 0.6250\n",
      "Epoch 22: saving model to model/keypoint_classifier/keypoint_classifier.hdf5\n",
      "30/30 [==============================] - 0s 871us/step - loss: 0.8836 - accuracy: 0.6146 - val_loss: 0.6219 - val_accuracy: 0.7688\n",
      "Epoch 23/1000\n",
      " 1/30 [>.............................] - ETA: 0s - loss: 0.8282 - accuracy: 0.6250\n",
      "Epoch 23: saving model to model/keypoint_classifier/keypoint_classifier.hdf5\n",
      "30/30 [==============================] - 0s 895us/step - loss: 0.8702 - accuracy: 0.6136 - val_loss: 0.5971 - val_accuracy: 0.7750\n",
      "Epoch 24/1000\n",
      " 1/30 [>.............................] - ETA: 0s - loss: 0.8843 - accuracy: 0.5938\n",
      "Epoch 24: saving model to model/keypoint_classifier/keypoint_classifier.hdf5\n",
      "30/30 [==============================] - 0s 872us/step - loss: 0.8528 - accuracy: 0.6222 - val_loss: 0.5789 - val_accuracy: 0.7773\n",
      "Epoch 25/1000\n",
      " 1/30 [>.............................] - ETA: 0s - loss: 0.7544 - accuracy: 0.7109\n",
      "Epoch 25: saving model to model/keypoint_classifier/keypoint_classifier.hdf5\n",
      "30/30 [==============================] - 0s 827us/step - loss: 0.8612 - accuracy: 0.6128 - val_loss: 0.5673 - val_accuracy: 0.7930\n",
      "Epoch 26/1000\n",
      " 1/30 [>.............................] - ETA: 0s - loss: 0.7885 - accuracy: 0.6562\n",
      "Epoch 26: saving model to model/keypoint_classifier/keypoint_classifier.hdf5\n",
      "30/30 [==============================] - 0s 830us/step - loss: 0.8330 - accuracy: 0.6326 - val_loss: 0.5507 - val_accuracy: 0.7937\n",
      "Epoch 27/1000\n",
      " 1/30 [>.............................] - ETA: 0s - loss: 0.7615 - accuracy: 0.6719\n",
      "Epoch 27: saving model to model/keypoint_classifier/keypoint_classifier.hdf5\n",
      "30/30 [==============================] - 0s 810us/step - loss: 0.8260 - accuracy: 0.6412 - val_loss: 0.5302 - val_accuracy: 0.8055\n",
      "Epoch 28/1000\n",
      " 1/30 [>.............................] - ETA: 0s - loss: 0.8460 - accuracy: 0.5938\n",
      "Epoch 28: saving model to model/keypoint_classifier/keypoint_classifier.hdf5\n",
      "30/30 [==============================] - 0s 822us/step - loss: 0.8019 - accuracy: 0.6386 - val_loss: 0.5104 - val_accuracy: 0.8141\n",
      "Epoch 29/1000\n",
      " 1/30 [>.............................] - ETA: 0s - loss: 0.8367 - accuracy: 0.6406\n",
      "Epoch 29: saving model to model/keypoint_classifier/keypoint_classifier.hdf5\n",
      "30/30 [==============================] - 0s 796us/step - loss: 0.8113 - accuracy: 0.6446 - val_loss: 0.5044 - val_accuracy: 0.8180\n",
      "Epoch 30/1000\n",
      " 1/30 [>.............................] - ETA: 0s - loss: 0.8889 - accuracy: 0.6094\n",
      "Epoch 30: saving model to model/keypoint_classifier/keypoint_classifier.hdf5\n",
      "30/30 [==============================] - 0s 824us/step - loss: 0.7977 - accuracy: 0.6522 - val_loss: 0.4962 - val_accuracy: 0.8242\n",
      "Epoch 31/1000\n",
      " 1/30 [>.............................] - ETA: 0s - loss: 0.7065 - accuracy: 0.7422\n",
      "Epoch 31: saving model to model/keypoint_classifier/keypoint_classifier.hdf5\n",
      "30/30 [==============================] - 0s 831us/step - loss: 0.7897 - accuracy: 0.6548 - val_loss: 0.4825 - val_accuracy: 0.8258\n",
      "Epoch 32/1000\n",
      " 1/30 [>.............................] - ETA: 0s - loss: 0.7244 - accuracy: 0.6875\n",
      "Epoch 32: saving model to model/keypoint_classifier/keypoint_classifier.hdf5\n",
      "30/30 [==============================] - 0s 833us/step - loss: 0.7637 - accuracy: 0.6707 - val_loss: 0.4684 - val_accuracy: 0.8219\n",
      "Epoch 33/1000\n",
      " 1/30 [>.............................] - ETA: 0s - loss: 0.6115 - accuracy: 0.7266\n",
      "Epoch 33: saving model to model/keypoint_classifier/keypoint_classifier.hdf5\n",
      "30/30 [==============================] - 0s 849us/step - loss: 0.7668 - accuracy: 0.6683 - val_loss: 0.4555 - val_accuracy: 0.8242\n",
      "Epoch 34/1000\n",
      " 1/30 [>.............................] - ETA: 0s - loss: 0.7491 - accuracy: 0.6406\n",
      "Epoch 34: saving model to model/keypoint_classifier/keypoint_classifier.hdf5\n",
      "30/30 [==============================] - 0s 827us/step - loss: 0.7761 - accuracy: 0.6592 - val_loss: 0.4494 - val_accuracy: 0.8727\n",
      "Epoch 35/1000\n",
      " 1/30 [>.............................] - ETA: 0s - loss: 0.7242 - accuracy: 0.7188\n",
      "Epoch 35: saving model to model/keypoint_classifier/keypoint_classifier.hdf5\n",
      "30/30 [==============================] - 0s 833us/step - loss: 0.7626 - accuracy: 0.6738 - val_loss: 0.4394 - val_accuracy: 0.8813\n",
      "Epoch 36/1000\n",
      " 1/30 [>.............................] - ETA: 0s - loss: 0.7629 - accuracy: 0.6719\n",
      "Epoch 36: saving model to model/keypoint_classifier/keypoint_classifier.hdf5\n",
      "30/30 [==============================] - 0s 852us/step - loss: 0.7290 - accuracy: 0.6941 - val_loss: 0.4319 - val_accuracy: 0.8727\n",
      "Epoch 37/1000\n",
      " 1/30 [>.............................] - ETA: 0s - loss: 0.7236 - accuracy: 0.6719\n",
      "Epoch 37: saving model to model/keypoint_classifier/keypoint_classifier.hdf5\n",
      "30/30 [==============================] - 0s 859us/step - loss: 0.7504 - accuracy: 0.6824 - val_loss: 0.4237 - val_accuracy: 0.8414\n",
      "Epoch 38/1000\n",
      " 1/30 [>.............................] - ETA: 0s - loss: 0.6659 - accuracy: 0.7422\n",
      "Epoch 38: saving model to model/keypoint_classifier/keypoint_classifier.hdf5\n",
      "30/30 [==============================] - 0s 866us/step - loss: 0.7227 - accuracy: 0.6910 - val_loss: 0.4088 - val_accuracy: 0.8531\n",
      "Epoch 39/1000\n",
      " 1/30 [>.............................] - ETA: 0s - loss: 0.6998 - accuracy: 0.7422\n",
      "Epoch 39: saving model to model/keypoint_classifier/keypoint_classifier.hdf5\n",
      "30/30 [==============================] - 0s 890us/step - loss: 0.7291 - accuracy: 0.6967 - val_loss: 0.4004 - val_accuracy: 0.8828\n",
      "Epoch 40/1000\n",
      " 1/30 [>.............................] - ETA: 0s - loss: 0.7089 - accuracy: 0.6484\n",
      "Epoch 40: saving model to model/keypoint_classifier/keypoint_classifier.hdf5\n",
      "30/30 [==============================] - 0s 860us/step - loss: 0.7116 - accuracy: 0.7051 - val_loss: 0.3917 - val_accuracy: 0.8984\n",
      "Epoch 41/1000\n",
      " 1/30 [>.............................] - ETA: 0s - loss: 0.6919 - accuracy: 0.7188\n",
      "Epoch 41: saving model to model/keypoint_classifier/keypoint_classifier.hdf5\n",
      "30/30 [==============================] - 0s 889us/step - loss: 0.7250 - accuracy: 0.6952 - val_loss: 0.3887 - val_accuracy: 0.9117\n",
      "Epoch 42/1000\n",
      " 1/30 [>.............................] - ETA: 0s - loss: 0.7830 - accuracy: 0.7188\n",
      "Epoch 42: saving model to model/keypoint_classifier/keypoint_classifier.hdf5\n",
      "30/30 [==============================] - 0s 927us/step - loss: 0.7068 - accuracy: 0.7011 - val_loss: 0.3840 - val_accuracy: 0.9070\n",
      "Epoch 43/1000\n",
      " 1/30 [>.............................] - ETA: 0s - loss: 0.6581 - accuracy: 0.7422\n",
      "Epoch 43: saving model to model/keypoint_classifier/keypoint_classifier.hdf5\n",
      "30/30 [==============================] - 0s 1ms/step - loss: 0.7179 - accuracy: 0.7022 - val_loss: 0.3717 - val_accuracy: 0.9219\n",
      "Epoch 44/1000\n",
      " 1/30 [>.............................] - ETA: 0s - loss: 0.6823 - accuracy: 0.7109\n",
      "Epoch 44: saving model to model/keypoint_classifier/keypoint_classifier.hdf5\n",
      "30/30 [==============================] - 0s 883us/step - loss: 0.6894 - accuracy: 0.7233 - val_loss: 0.3612 - val_accuracy: 0.9242\n",
      "Epoch 45/1000\n",
      " 1/30 [>.............................] - ETA: 0s - loss: 0.7132 - accuracy: 0.7031\n",
      "Epoch 45: saving model to model/keypoint_classifier/keypoint_classifier.hdf5\n",
      "30/30 [==============================] - 0s 878us/step - loss: 0.6777 - accuracy: 0.7220 - val_loss: 0.3549 - val_accuracy: 0.9234\n",
      "Epoch 46/1000\n",
      " 1/30 [>.............................] - ETA: 0s - loss: 0.5936 - accuracy: 0.7656\n",
      "Epoch 46: saving model to model/keypoint_classifier/keypoint_classifier.hdf5\n",
      "30/30 [==============================] - 0s 945us/step - loss: 0.6919 - accuracy: 0.7178 - val_loss: 0.3501 - val_accuracy: 0.9359\n",
      "Epoch 47/1000\n",
      " 1/30 [>.............................] - ETA: 0s - loss: 0.7006 - accuracy: 0.6719\n",
      "Epoch 47: saving model to model/keypoint_classifier/keypoint_classifier.hdf5\n",
      "30/30 [==============================] - 0s 912us/step - loss: 0.6860 - accuracy: 0.7191 - val_loss: 0.3438 - val_accuracy: 0.9320\n",
      "Epoch 48/1000\n",
      " 1/30 [>.............................] - ETA: 0s - loss: 0.6819 - accuracy: 0.6875\n",
      "Epoch 48: saving model to model/keypoint_classifier/keypoint_classifier.hdf5\n",
      "30/30 [==============================] - 0s 1ms/step - loss: 0.6654 - accuracy: 0.7355 - val_loss: 0.3326 - val_accuracy: 0.9328\n",
      "Epoch 49/1000\n",
      " 1/30 [>.............................] - ETA: 0s - loss: 0.6416 - accuracy: 0.7188\n",
      "Epoch 49: saving model to model/keypoint_classifier/keypoint_classifier.hdf5\n",
      "30/30 [==============================] - 0s 888us/step - loss: 0.6547 - accuracy: 0.7447 - val_loss: 0.3295 - val_accuracy: 0.9312\n",
      "Epoch 50/1000\n",
      " 1/30 [>.............................] - ETA: 0s - loss: 0.6847 - accuracy: 0.7422\n",
      "Epoch 50: saving model to model/keypoint_classifier/keypoint_classifier.hdf5\n",
      "30/30 [==============================] - 0s 929us/step - loss: 0.6870 - accuracy: 0.7319 - val_loss: 0.3330 - val_accuracy: 0.9320\n",
      "Epoch 51/1000\n",
      " 1/30 [>.............................] - ETA: 0s - loss: 0.6330 - accuracy: 0.7266\n",
      "Epoch 51: saving model to model/keypoint_classifier/keypoint_classifier.hdf5\n",
      "30/30 [==============================] - 0s 885us/step - loss: 0.6421 - accuracy: 0.7439 - val_loss: 0.3195 - val_accuracy: 0.9391\n",
      "Epoch 52/1000\n",
      " 1/30 [>.............................] - ETA: 0s - loss: 0.6701 - accuracy: 0.7188\n",
      "Epoch 52: saving model to model/keypoint_classifier/keypoint_classifier.hdf5\n",
      "30/30 [==============================] - 0s 880us/step - loss: 0.6585 - accuracy: 0.7329 - val_loss: 0.3184 - val_accuracy: 0.9344\n",
      "Epoch 53/1000\n",
      " 1/30 [>.............................] - ETA: 0s - loss: 0.5903 - accuracy: 0.7422\n",
      "Epoch 53: saving model to model/keypoint_classifier/keypoint_classifier.hdf5\n",
      "30/30 [==============================] - 0s 900us/step - loss: 0.6549 - accuracy: 0.7493 - val_loss: 0.3140 - val_accuracy: 0.9383\n",
      "Epoch 54/1000\n",
      " 1/30 [>.............................] - ETA: 0s - loss: 0.6556 - accuracy: 0.7344\n",
      "Epoch 54: saving model to model/keypoint_classifier/keypoint_classifier.hdf5\n",
      "30/30 [==============================] - 0s 925us/step - loss: 0.6356 - accuracy: 0.7449 - val_loss: 0.3049 - val_accuracy: 0.9508\n",
      "Epoch 55/1000\n",
      " 1/30 [>.............................] - ETA: 0s - loss: 0.6651 - accuracy: 0.7188\n",
      "Epoch 55: saving model to model/keypoint_classifier/keypoint_classifier.hdf5\n",
      "30/30 [==============================] - 0s 859us/step - loss: 0.6623 - accuracy: 0.7392 - val_loss: 0.3031 - val_accuracy: 0.9492\n",
      "Epoch 56/1000\n",
      " 1/30 [>.............................] - ETA: 0s - loss: 0.6609 - accuracy: 0.7031\n",
      "Epoch 56: saving model to model/keypoint_classifier/keypoint_classifier.hdf5\n",
      "30/30 [==============================] - 0s 841us/step - loss: 0.6558 - accuracy: 0.7389 - val_loss: 0.3035 - val_accuracy: 0.9477\n",
      "Epoch 57/1000\n",
      " 1/30 [>.............................] - ETA: 0s - loss: 0.6176 - accuracy: 0.7656\n",
      "Epoch 57: saving model to model/keypoint_classifier/keypoint_classifier.hdf5\n",
      "30/30 [==============================] - 0s 857us/step - loss: 0.6317 - accuracy: 0.7512 - val_loss: 0.3010 - val_accuracy: 0.9445\n",
      "Epoch 58/1000\n",
      " 1/30 [>.............................] - ETA: 0s - loss: 0.6627 - accuracy: 0.6953\n",
      "Epoch 58: saving model to model/keypoint_classifier/keypoint_classifier.hdf5\n",
      "30/30 [==============================] - 0s 839us/step - loss: 0.6392 - accuracy: 0.7574 - val_loss: 0.2920 - val_accuracy: 0.9453\n",
      "Epoch 59/1000\n",
      " 1/30 [>.............................] - ETA: 0s - loss: 0.7101 - accuracy: 0.7031\n",
      "Epoch 59: saving model to model/keypoint_classifier/keypoint_classifier.hdf5\n",
      "30/30 [==============================] - 0s 831us/step - loss: 0.6312 - accuracy: 0.7564 - val_loss: 0.2884 - val_accuracy: 0.9492\n",
      "Epoch 60/1000\n",
      " 1/30 [>.............................] - ETA: 0s - loss: 0.7656 - accuracy: 0.6953\n",
      "Epoch 60: saving model to model/keypoint_classifier/keypoint_classifier.hdf5\n",
      "30/30 [==============================] - 0s 872us/step - loss: 0.6337 - accuracy: 0.7530 - val_loss: 0.2891 - val_accuracy: 0.9523\n",
      "Epoch 61/1000\n",
      " 1/30 [>.............................] - ETA: 0s - loss: 0.7010 - accuracy: 0.7344\n",
      "Epoch 61: saving model to model/keypoint_classifier/keypoint_classifier.hdf5\n",
      "30/30 [==============================] - 0s 824us/step - loss: 0.6056 - accuracy: 0.7626 - val_loss: 0.2806 - val_accuracy: 0.9500\n",
      "Epoch 62/1000\n",
      " 1/30 [>.............................] - ETA: 0s - loss: 0.5668 - accuracy: 0.8281\n",
      "Epoch 62: saving model to model/keypoint_classifier/keypoint_classifier.hdf5\n",
      "30/30 [==============================] - 0s 839us/step - loss: 0.6198 - accuracy: 0.7652 - val_loss: 0.2791 - val_accuracy: 0.9539\n",
      "Epoch 63/1000\n",
      " 1/30 [>.............................] - ETA: 0s - loss: 0.7118 - accuracy: 0.7500\n",
      "Epoch 63: saving model to model/keypoint_classifier/keypoint_classifier.hdf5\n",
      "30/30 [==============================] - 0s 833us/step - loss: 0.6131 - accuracy: 0.7592 - val_loss: 0.2795 - val_accuracy: 0.9477\n",
      "Epoch 64/1000\n",
      " 1/30 [>.............................] - ETA: 0s - loss: 0.6409 - accuracy: 0.7578\n",
      "Epoch 64: saving model to model/keypoint_classifier/keypoint_classifier.hdf5\n",
      "30/30 [==============================] - 0s 829us/step - loss: 0.6221 - accuracy: 0.7579 - val_loss: 0.2778 - val_accuracy: 0.9469\n",
      "Epoch 65/1000\n",
      " 1/30 [>.............................] - ETA: 0s - loss: 0.5208 - accuracy: 0.7734\n",
      "Epoch 65: saving model to model/keypoint_classifier/keypoint_classifier.hdf5\n",
      "30/30 [==============================] - 0s 887us/step - loss: 0.6295 - accuracy: 0.7548 - val_loss: 0.2761 - val_accuracy: 0.9531\n",
      "Epoch 66/1000\n",
      " 1/30 [>.............................] - ETA: 0s - loss: 0.4696 - accuracy: 0.8672\n",
      "Epoch 66: saving model to model/keypoint_classifier/keypoint_classifier.hdf5\n",
      "30/30 [==============================] - 0s 879us/step - loss: 0.6136 - accuracy: 0.7626 - val_loss: 0.2760 - val_accuracy: 0.9531\n",
      "Epoch 67/1000\n",
      " 1/30 [>.............................] - ETA: 0s - loss: 0.6331 - accuracy: 0.7500\n",
      "Epoch 67: saving model to model/keypoint_classifier/keypoint_classifier.hdf5\n",
      "30/30 [==============================] - 0s 898us/step - loss: 0.5984 - accuracy: 0.7699 - val_loss: 0.2759 - val_accuracy: 0.9477\n",
      "Epoch 68/1000\n",
      " 1/30 [>.............................] - ETA: 0s - loss: 0.5859 - accuracy: 0.7656\n",
      "Epoch 68: saving model to model/keypoint_classifier/keypoint_classifier.hdf5\n",
      "30/30 [==============================] - 0s 873us/step - loss: 0.6108 - accuracy: 0.7658 - val_loss: 0.2687 - val_accuracy: 0.9531\n",
      "Epoch 69/1000\n",
      " 1/30 [>.............................] - ETA: 0s - loss: 0.5517 - accuracy: 0.7422\n",
      "Epoch 69: saving model to model/keypoint_classifier/keypoint_classifier.hdf5\n",
      "30/30 [==============================] - 0s 867us/step - loss: 0.6307 - accuracy: 0.7546 - val_loss: 0.2738 - val_accuracy: 0.9563\n",
      "Epoch 70/1000\n",
      " 1/30 [>.............................] - ETA: 0s - loss: 0.6237 - accuracy: 0.7891\n",
      "Epoch 70: saving model to model/keypoint_classifier/keypoint_classifier.hdf5\n",
      "30/30 [==============================] - 0s 903us/step - loss: 0.6062 - accuracy: 0.7759 - val_loss: 0.2664 - val_accuracy: 0.9602\n",
      "Epoch 71/1000\n",
      " 1/30 [>.............................] - ETA: 0s - loss: 0.5650 - accuracy: 0.7734\n",
      "Epoch 71: saving model to model/keypoint_classifier/keypoint_classifier.hdf5\n",
      "30/30 [==============================] - 0s 860us/step - loss: 0.5793 - accuracy: 0.7757 - val_loss: 0.2714 - val_accuracy: 0.9500\n",
      "Epoch 72/1000\n",
      " 1/30 [>.............................] - ETA: 0s - loss: 0.4894 - accuracy: 0.8125\n",
      "Epoch 72: saving model to model/keypoint_classifier/keypoint_classifier.hdf5\n",
      "30/30 [==============================] - 0s 929us/step - loss: 0.5875 - accuracy: 0.7705 - val_loss: 0.2593 - val_accuracy: 0.9539\n",
      "Epoch 73/1000\n",
      " 1/30 [>.............................] - ETA: 0s - loss: 0.7159 - accuracy: 0.7188\n",
      "Epoch 73: saving model to model/keypoint_classifier/keypoint_classifier.hdf5\n",
      "30/30 [==============================] - 0s 926us/step - loss: 0.5933 - accuracy: 0.7678 - val_loss: 0.2582 - val_accuracy: 0.9563\n",
      "Epoch 74/1000\n",
      " 1/30 [>.............................] - ETA: 0s - loss: 0.6726 - accuracy: 0.7109\n",
      "Epoch 74: saving model to model/keypoint_classifier/keypoint_classifier.hdf5\n",
      "30/30 [==============================] - 0s 871us/step - loss: 0.5930 - accuracy: 0.7715 - val_loss: 0.2541 - val_accuracy: 0.9586\n",
      "Epoch 75/1000\n",
      " 1/30 [>.............................] - ETA: 0s - loss: 0.5843 - accuracy: 0.8203\n",
      "Epoch 75: saving model to model/keypoint_classifier/keypoint_classifier.hdf5\n",
      "30/30 [==============================] - 0s 927us/step - loss: 0.5941 - accuracy: 0.7785 - val_loss: 0.2539 - val_accuracy: 0.9539\n",
      "Epoch 76/1000\n",
      " 1/30 [>.............................] - ETA: 0s - loss: 0.4643 - accuracy: 0.8438\n",
      "Epoch 76: saving model to model/keypoint_classifier/keypoint_classifier.hdf5\n",
      "30/30 [==============================] - 0s 916us/step - loss: 0.6020 - accuracy: 0.7650 - val_loss: 0.2539 - val_accuracy: 0.9555\n",
      "Epoch 77/1000\n",
      " 1/30 [>.............................] - ETA: 0s - loss: 0.5788 - accuracy: 0.7812\n",
      "Epoch 77: saving model to model/keypoint_classifier/keypoint_classifier.hdf5\n",
      "30/30 [==============================] - 0s 847us/step - loss: 0.5917 - accuracy: 0.7751 - val_loss: 0.2548 - val_accuracy: 0.9578\n",
      "Epoch 78/1000\n",
      " 1/30 [>.............................] - ETA: 0s - loss: 0.5664 - accuracy: 0.8047\n",
      "Epoch 78: saving model to model/keypoint_classifier/keypoint_classifier.hdf5\n",
      "30/30 [==============================] - 0s 847us/step - loss: 0.6014 - accuracy: 0.7705 - val_loss: 0.2565 - val_accuracy: 0.9531\n",
      "Epoch 79/1000\n",
      " 1/30 [>.............................] - ETA: 0s - loss: 0.5251 - accuracy: 0.7891\n",
      "Epoch 79: saving model to model/keypoint_classifier/keypoint_classifier.hdf5\n",
      "30/30 [==============================] - 0s 827us/step - loss: 0.5863 - accuracy: 0.7770 - val_loss: 0.2499 - val_accuracy: 0.9578\n",
      "Epoch 80/1000\n",
      " 1/30 [>.............................] - ETA: 0s - loss: 0.5183 - accuracy: 0.8047\n",
      "Epoch 80: saving model to model/keypoint_classifier/keypoint_classifier.hdf5\n",
      "30/30 [==============================] - 0s 838us/step - loss: 0.5959 - accuracy: 0.7689 - val_loss: 0.2530 - val_accuracy: 0.9586\n",
      "Epoch 81/1000\n",
      " 1/30 [>.............................] - ETA: 0s - loss: 0.6624 - accuracy: 0.7109\n",
      "Epoch 81: saving model to model/keypoint_classifier/keypoint_classifier.hdf5\n",
      "30/30 [==============================] - 0s 904us/step - loss: 0.5775 - accuracy: 0.7764 - val_loss: 0.2473 - val_accuracy: 0.9570\n",
      "Epoch 82/1000\n",
      " 1/30 [>.............................] - ETA: 0s - loss: 0.6475 - accuracy: 0.7656\n",
      "Epoch 82: saving model to model/keypoint_classifier/keypoint_classifier.hdf5\n",
      "30/30 [==============================] - 0s 843us/step - loss: 0.5828 - accuracy: 0.7824 - val_loss: 0.2449 - val_accuracy: 0.9578\n",
      "Epoch 83/1000\n",
      " 1/30 [>.............................] - ETA: 0s - loss: 0.6487 - accuracy: 0.7031\n",
      "Epoch 83: saving model to model/keypoint_classifier/keypoint_classifier.hdf5\n",
      "30/30 [==============================] - 0s 862us/step - loss: 0.5750 - accuracy: 0.7827 - val_loss: 0.2465 - val_accuracy: 0.9570\n",
      "Epoch 84/1000\n",
      " 1/30 [>.............................] - ETA: 0s - loss: 0.4380 - accuracy: 0.8203\n",
      "Epoch 84: saving model to model/keypoint_classifier/keypoint_classifier.hdf5\n",
      "30/30 [==============================] - 0s 992us/step - loss: 0.5750 - accuracy: 0.7848 - val_loss: 0.2494 - val_accuracy: 0.9594\n",
      "Epoch 85/1000\n",
      " 1/30 [>.............................] - ETA: 0s - loss: 0.6111 - accuracy: 0.7422\n",
      "Epoch 85: saving model to model/keypoint_classifier/keypoint_classifier.hdf5\n",
      "30/30 [==============================] - 0s 841us/step - loss: 0.5762 - accuracy: 0.7809 - val_loss: 0.2450 - val_accuracy: 0.9609\n",
      "Epoch 86/1000\n",
      " 1/30 [>.............................] - ETA: 0s - loss: 0.6119 - accuracy: 0.7891\n",
      "Epoch 86: saving model to model/keypoint_classifier/keypoint_classifier.hdf5\n",
      "30/30 [==============================] - 0s 885us/step - loss: 0.5734 - accuracy: 0.7863 - val_loss: 0.2342 - val_accuracy: 0.9617\n",
      "Epoch 87/1000\n",
      " 1/30 [>.............................] - ETA: 0s - loss: 0.4216 - accuracy: 0.8594\n",
      "Epoch 87: saving model to model/keypoint_classifier/keypoint_classifier.hdf5\n",
      "30/30 [==============================] - 0s 820us/step - loss: 0.5624 - accuracy: 0.7882 - val_loss: 0.2356 - val_accuracy: 0.9617\n",
      "Epoch 88/1000\n",
      " 1/30 [>.............................] - ETA: 0s - loss: 0.5396 - accuracy: 0.7734\n",
      "Epoch 88: saving model to model/keypoint_classifier/keypoint_classifier.hdf5\n",
      "30/30 [==============================] - 0s 841us/step - loss: 0.5746 - accuracy: 0.7819 - val_loss: 0.2318 - val_accuracy: 0.9609\n",
      "Epoch 89/1000\n",
      " 1/30 [>.............................] - ETA: 0s - loss: 0.4528 - accuracy: 0.8125\n",
      "Epoch 89: saving model to model/keypoint_classifier/keypoint_classifier.hdf5\n",
      "30/30 [==============================] - 0s 838us/step - loss: 0.5606 - accuracy: 0.7887 - val_loss: 0.2316 - val_accuracy: 0.9609\n",
      "Epoch 90/1000\n",
      " 1/30 [>.............................] - ETA: 0s - loss: 0.4987 - accuracy: 0.7734\n",
      "Epoch 90: saving model to model/keypoint_classifier/keypoint_classifier.hdf5\n",
      "30/30 [==============================] - 0s 828us/step - loss: 0.5699 - accuracy: 0.7866 - val_loss: 0.2332 - val_accuracy: 0.9602\n",
      "Epoch 91/1000\n",
      " 1/30 [>.............................] - ETA: 0s - loss: 0.5790 - accuracy: 0.7578\n",
      "Epoch 91: saving model to model/keypoint_classifier/keypoint_classifier.hdf5\n",
      "30/30 [==============================] - 0s 876us/step - loss: 0.5677 - accuracy: 0.7811 - val_loss: 0.2342 - val_accuracy: 0.9602\n",
      "Epoch 92/1000\n",
      " 1/30 [>.............................] - ETA: 0s - loss: 0.4777 - accuracy: 0.7734\n",
      "Epoch 92: saving model to model/keypoint_classifier/keypoint_classifier.hdf5\n",
      "30/30 [==============================] - 0s 849us/step - loss: 0.5642 - accuracy: 0.7861 - val_loss: 0.2357 - val_accuracy: 0.9602\n",
      "Epoch 93/1000\n",
      " 1/30 [>.............................] - ETA: 0s - loss: 0.5210 - accuracy: 0.8047\n",
      "Epoch 93: saving model to model/keypoint_classifier/keypoint_classifier.hdf5\n",
      "30/30 [==============================] - 0s 891us/step - loss: 0.5545 - accuracy: 0.7897 - val_loss: 0.2301 - val_accuracy: 0.9594\n",
      "Epoch 94/1000\n",
      " 1/30 [>.............................] - ETA: 0s - loss: 0.7171 - accuracy: 0.7109\n",
      "Epoch 94: saving model to model/keypoint_classifier/keypoint_classifier.hdf5\n",
      "30/30 [==============================] - 0s 850us/step - loss: 0.5568 - accuracy: 0.7895 - val_loss: 0.2270 - val_accuracy: 0.9633\n",
      "Epoch 95/1000\n",
      " 1/30 [>.............................] - ETA: 0s - loss: 0.5549 - accuracy: 0.7656\n",
      "Epoch 95: saving model to model/keypoint_classifier/keypoint_classifier.hdf5\n",
      "30/30 [==============================] - 0s 939us/step - loss: 0.5542 - accuracy: 0.7910 - val_loss: 0.2292 - val_accuracy: 0.9617\n",
      "Epoch 96/1000\n",
      " 1/30 [>.............................] - ETA: 0s - loss: 0.5895 - accuracy: 0.8203\n",
      "Epoch 96: saving model to model/keypoint_classifier/keypoint_classifier.hdf5\n",
      "30/30 [==============================] - 0s 996us/step - loss: 0.5412 - accuracy: 0.7905 - val_loss: 0.2227 - val_accuracy: 0.9625\n",
      "Epoch 97/1000\n",
      " 1/30 [>.............................] - ETA: 0s - loss: 0.4723 - accuracy: 0.8281\n",
      "Epoch 97: saving model to model/keypoint_classifier/keypoint_classifier.hdf5\n",
      "30/30 [==============================] - 0s 873us/step - loss: 0.5721 - accuracy: 0.7869 - val_loss: 0.2249 - val_accuracy: 0.9625\n",
      "Epoch 98/1000\n",
      " 1/30 [>.............................] - ETA: 0s - loss: 0.5015 - accuracy: 0.8125\n",
      "Epoch 98: saving model to model/keypoint_classifier/keypoint_classifier.hdf5\n",
      "30/30 [==============================] - 0s 892us/step - loss: 0.5460 - accuracy: 0.7887 - val_loss: 0.2228 - val_accuracy: 0.9633\n",
      "Epoch 99/1000\n",
      " 1/30 [>.............................] - ETA: 0s - loss: 0.5279 - accuracy: 0.8359\n",
      "Epoch 99: saving model to model/keypoint_classifier/keypoint_classifier.hdf5\n",
      "30/30 [==============================] - 0s 929us/step - loss: 0.5565 - accuracy: 0.7913 - val_loss: 0.2285 - val_accuracy: 0.9578\n",
      "Epoch 100/1000\n",
      " 1/30 [>.............................] - ETA: 0s - loss: 0.5229 - accuracy: 0.7812\n",
      "Epoch 100: saving model to model/keypoint_classifier/keypoint_classifier.hdf5\n",
      "30/30 [==============================] - 0s 859us/step - loss: 0.5788 - accuracy: 0.7913 - val_loss: 0.2301 - val_accuracy: 0.9578\n",
      "Epoch 101/1000\n",
      " 1/30 [>.............................] - ETA: 0s - loss: 0.4242 - accuracy: 0.8438\n",
      "Epoch 101: saving model to model/keypoint_classifier/keypoint_classifier.hdf5\n",
      "30/30 [==============================] - 0s 877us/step - loss: 0.5733 - accuracy: 0.7887 - val_loss: 0.2286 - val_accuracy: 0.9602\n",
      "Epoch 102/1000\n",
      " 1/30 [>.............................] - ETA: 0s - loss: 0.6086 - accuracy: 0.7500\n",
      "Epoch 102: saving model to model/keypoint_classifier/keypoint_classifier.hdf5\n",
      "30/30 [==============================] - 0s 850us/step - loss: 0.5491 - accuracy: 0.7913 - val_loss: 0.2184 - val_accuracy: 0.9609\n",
      "Epoch 103/1000\n",
      " 1/30 [>.............................] - ETA: 0s - loss: 0.6142 - accuracy: 0.7500\n",
      "Epoch 103: saving model to model/keypoint_classifier/keypoint_classifier.hdf5\n",
      "30/30 [==============================] - 0s 846us/step - loss: 0.5478 - accuracy: 0.7892 - val_loss: 0.2223 - val_accuracy: 0.9539\n",
      "Epoch 104/1000\n",
      " 1/30 [>.............................] - ETA: 0s - loss: 0.5385 - accuracy: 0.8047\n",
      "Epoch 104: saving model to model/keypoint_classifier/keypoint_classifier.hdf5\n",
      "30/30 [==============================] - 0s 837us/step - loss: 0.5370 - accuracy: 0.8012 - val_loss: 0.2224 - val_accuracy: 0.9594\n",
      "Epoch 105/1000\n",
      " 1/30 [>.............................] - ETA: 0s - loss: 0.5074 - accuracy: 0.8203\n",
      "Epoch 105: saving model to model/keypoint_classifier/keypoint_classifier.hdf5\n",
      "30/30 [==============================] - 0s 907us/step - loss: 0.5441 - accuracy: 0.7957 - val_loss: 0.2164 - val_accuracy: 0.9617\n",
      "Epoch 106/1000\n",
      " 1/30 [>.............................] - ETA: 0s - loss: 0.5141 - accuracy: 0.8125\n",
      "Epoch 106: saving model to model/keypoint_classifier/keypoint_classifier.hdf5\n",
      "30/30 [==============================] - 0s 843us/step - loss: 0.5733 - accuracy: 0.7848 - val_loss: 0.2257 - val_accuracy: 0.9586\n",
      "Epoch 107/1000\n",
      " 1/30 [>.............................] - ETA: 0s - loss: 0.6110 - accuracy: 0.7969\n",
      "Epoch 107: saving model to model/keypoint_classifier/keypoint_classifier.hdf5\n",
      "30/30 [==============================] - 0s 842us/step - loss: 0.5504 - accuracy: 0.7926 - val_loss: 0.2165 - val_accuracy: 0.9586\n",
      "Epoch 108/1000\n",
      " 1/30 [>.............................] - ETA: 0s - loss: 0.5601 - accuracy: 0.7891\n",
      "Epoch 108: saving model to model/keypoint_classifier/keypoint_classifier.hdf5\n",
      "30/30 [==============================] - 0s 835us/step - loss: 0.5361 - accuracy: 0.8035 - val_loss: 0.2137 - val_accuracy: 0.9586\n",
      "Epoch 109/1000\n",
      " 1/30 [>.............................] - ETA: 0s - loss: 0.5945 - accuracy: 0.8047\n",
      "Epoch 109: saving model to model/keypoint_classifier/keypoint_classifier.hdf5\n",
      "30/30 [==============================] - 0s 852us/step - loss: 0.5571 - accuracy: 0.7913 - val_loss: 0.2137 - val_accuracy: 0.9617\n",
      "Epoch 110/1000\n",
      " 1/30 [>.............................] - ETA: 0s - loss: 0.5128 - accuracy: 0.8359\n",
      "Epoch 110: saving model to model/keypoint_classifier/keypoint_classifier.hdf5\n",
      "30/30 [==============================] - 0s 836us/step - loss: 0.5423 - accuracy: 0.8020 - val_loss: 0.2093 - val_accuracy: 0.9602\n",
      "Epoch 111/1000\n",
      " 1/30 [>.............................] - ETA: 0s - loss: 0.5549 - accuracy: 0.8125\n",
      "Epoch 111: saving model to model/keypoint_classifier/keypoint_classifier.hdf5\n",
      "30/30 [==============================] - 0s 850us/step - loss: 0.5454 - accuracy: 0.7942 - val_loss: 0.2044 - val_accuracy: 0.9641\n",
      "Epoch 112/1000\n",
      " 1/30 [>.............................] - ETA: 0s - loss: 0.5477 - accuracy: 0.8203\n",
      "Epoch 112: saving model to model/keypoint_classifier/keypoint_classifier.hdf5\n",
      "30/30 [==============================] - 0s 850us/step - loss: 0.5274 - accuracy: 0.7949 - val_loss: 0.2196 - val_accuracy: 0.9594\n",
      "Epoch 113/1000\n",
      " 1/30 [>.............................] - ETA: 0s - loss: 0.6316 - accuracy: 0.7500\n",
      "Epoch 113: saving model to model/keypoint_classifier/keypoint_classifier.hdf5\n",
      "30/30 [==============================] - 0s 840us/step - loss: 0.5503 - accuracy: 0.7960 - val_loss: 0.2092 - val_accuracy: 0.9633\n",
      "Epoch 114/1000\n",
      " 1/30 [>.............................] - ETA: 0s - loss: 0.5715 - accuracy: 0.7969\n",
      "Epoch 114: saving model to model/keypoint_classifier/keypoint_classifier.hdf5\n",
      "30/30 [==============================] - 0s 845us/step - loss: 0.5386 - accuracy: 0.8035 - val_loss: 0.2069 - val_accuracy: 0.9609\n",
      "Epoch 115/1000\n",
      " 1/30 [>.............................] - ETA: 0s - loss: 0.6520 - accuracy: 0.7734\n",
      "Epoch 115: saving model to model/keypoint_classifier/keypoint_classifier.hdf5\n",
      "30/30 [==============================] - 0s 839us/step - loss: 0.5316 - accuracy: 0.8072 - val_loss: 0.2033 - val_accuracy: 0.9617\n",
      "Epoch 116/1000\n",
      " 1/30 [>.............................] - ETA: 0s - loss: 0.5042 - accuracy: 0.8281\n",
      "Epoch 116: saving model to model/keypoint_classifier/keypoint_classifier.hdf5\n",
      "30/30 [==============================] - 0s 902us/step - loss: 0.5266 - accuracy: 0.7989 - val_loss: 0.2107 - val_accuracy: 0.9641\n",
      "Epoch 117/1000\n",
      " 1/30 [>.............................] - ETA: 0s - loss: 0.4666 - accuracy: 0.8203\n",
      "Epoch 117: saving model to model/keypoint_classifier/keypoint_classifier.hdf5\n",
      "30/30 [==============================] - 0s 1ms/step - loss: 0.5480 - accuracy: 0.7918 - val_loss: 0.2118 - val_accuracy: 0.9656\n",
      "Epoch 118/1000\n",
      " 1/30 [>.............................] - ETA: 0s - loss: 0.5404 - accuracy: 0.8125\n",
      "Epoch 118: saving model to model/keypoint_classifier/keypoint_classifier.hdf5\n",
      "30/30 [==============================] - 0s 944us/step - loss: 0.5368 - accuracy: 0.8048 - val_loss: 0.2159 - val_accuracy: 0.9625\n",
      "Epoch 119/1000\n",
      " 1/30 [>.............................] - ETA: 0s - loss: 0.5220 - accuracy: 0.8359\n",
      "Epoch 119: saving model to model/keypoint_classifier/keypoint_classifier.hdf5\n",
      "30/30 [==============================] - 0s 887us/step - loss: 0.5368 - accuracy: 0.7970 - val_loss: 0.2079 - val_accuracy: 0.9656\n",
      "Epoch 120/1000\n",
      " 1/30 [>.............................] - ETA: 0s - loss: 0.5039 - accuracy: 0.7812\n",
      "Epoch 120: saving model to model/keypoint_classifier/keypoint_classifier.hdf5\n",
      "30/30 [==============================] - 0s 875us/step - loss: 0.5308 - accuracy: 0.8030 - val_loss: 0.2077 - val_accuracy: 0.9672\n",
      "Epoch 121/1000\n",
      " 1/30 [>.............................] - ETA: 0s - loss: 0.4867 - accuracy: 0.8203\n",
      "Epoch 121: saving model to model/keypoint_classifier/keypoint_classifier.hdf5\n",
      "30/30 [==============================] - 0s 884us/step - loss: 0.5453 - accuracy: 0.7926 - val_loss: 0.2061 - val_accuracy: 0.9656\n",
      "Epoch 122/1000\n",
      " 1/30 [>.............................] - ETA: 0s - loss: 0.5306 - accuracy: 0.7969\n",
      "Epoch 122: saving model to model/keypoint_classifier/keypoint_classifier.hdf5\n",
      "30/30 [==============================] - 0s 943us/step - loss: 0.5302 - accuracy: 0.7999 - val_loss: 0.2104 - val_accuracy: 0.9641\n",
      "Epoch 123/1000\n",
      " 1/30 [>.............................] - ETA: 0s - loss: 0.6216 - accuracy: 0.7578\n",
      "Epoch 123: saving model to model/keypoint_classifier/keypoint_classifier.hdf5\n",
      "30/30 [==============================] - 0s 891us/step - loss: 0.5249 - accuracy: 0.7976 - val_loss: 0.2037 - val_accuracy: 0.9641\n",
      "Epoch 124/1000\n",
      " 1/30 [>.............................] - ETA: 0s - loss: 0.4790 - accuracy: 0.7891\n",
      "Epoch 124: saving model to model/keypoint_classifier/keypoint_classifier.hdf5\n",
      "30/30 [==============================] - 0s 887us/step - loss: 0.5396 - accuracy: 0.7976 - val_loss: 0.2072 - val_accuracy: 0.9617\n",
      "Epoch 125/1000\n",
      " 1/30 [>.............................] - ETA: 0s - loss: 0.4793 - accuracy: 0.8203\n",
      "Epoch 125: saving model to model/keypoint_classifier/keypoint_classifier.hdf5\n",
      "30/30 [==============================] - 0s 892us/step - loss: 0.5418 - accuracy: 0.8009 - val_loss: 0.2039 - val_accuracy: 0.9664\n",
      "Epoch 126/1000\n",
      " 1/30 [>.............................] - ETA: 0s - loss: 0.5590 - accuracy: 0.7812\n",
      "Epoch 126: saving model to model/keypoint_classifier/keypoint_classifier.hdf5\n",
      "30/30 [==============================] - 0s 879us/step - loss: 0.5182 - accuracy: 0.8098 - val_loss: 0.2008 - val_accuracy: 0.9648\n",
      "Epoch 127/1000\n",
      " 1/30 [>.............................] - ETA: 0s - loss: 0.4943 - accuracy: 0.8203\n",
      "Epoch 127: saving model to model/keypoint_classifier/keypoint_classifier.hdf5\n",
      "30/30 [==============================] - 0s 843us/step - loss: 0.5394 - accuracy: 0.8033 - val_loss: 0.2015 - val_accuracy: 0.9641\n",
      "Epoch 128/1000\n",
      " 1/30 [>.............................] - ETA: 0s - loss: 0.5229 - accuracy: 0.8203\n",
      "Epoch 128: saving model to model/keypoint_classifier/keypoint_classifier.hdf5\n",
      "30/30 [==============================] - 0s 988us/step - loss: 0.5420 - accuracy: 0.8012 - val_loss: 0.2076 - val_accuracy: 0.9633\n",
      "Epoch 129/1000\n",
      " 1/30 [>.............................] - ETA: 0s - loss: 0.6227 - accuracy: 0.7734\n",
      "Epoch 129: saving model to model/keypoint_classifier/keypoint_classifier.hdf5\n",
      "30/30 [==============================] - 0s 884us/step - loss: 0.5256 - accuracy: 0.8056 - val_loss: 0.2063 - val_accuracy: 0.9625\n",
      "Epoch 130/1000\n",
      " 1/30 [>.............................] - ETA: 0s - loss: 0.5334 - accuracy: 0.8281\n",
      "Epoch 130: saving model to model/keypoint_classifier/keypoint_classifier.hdf5\n",
      "30/30 [==============================] - 0s 855us/step - loss: 0.5301 - accuracy: 0.7994 - val_loss: 0.2094 - val_accuracy: 0.9625\n",
      "Epoch 131/1000\n",
      " 1/30 [>.............................] - ETA: 0s - loss: 0.4313 - accuracy: 0.8281\n",
      "Epoch 131: saving model to model/keypoint_classifier/keypoint_classifier.hdf5\n",
      "30/30 [==============================] - 0s 892us/step - loss: 0.5091 - accuracy: 0.8080 - val_loss: 0.1989 - val_accuracy: 0.9648\n",
      "Epoch 132/1000\n",
      " 1/30 [>.............................] - ETA: 0s - loss: 0.6443 - accuracy: 0.7734\n",
      "Epoch 132: saving model to model/keypoint_classifier/keypoint_classifier.hdf5\n",
      "30/30 [==============================] - 0s 888us/step - loss: 0.5327 - accuracy: 0.8017 - val_loss: 0.2041 - val_accuracy: 0.9656\n",
      "Epoch 133/1000\n",
      " 1/30 [>.............................] - ETA: 0s - loss: 0.6531 - accuracy: 0.7500\n",
      "Epoch 133: saving model to model/keypoint_classifier/keypoint_classifier.hdf5\n",
      "30/30 [==============================] - 0s 834us/step - loss: 0.5149 - accuracy: 0.8064 - val_loss: 0.2026 - val_accuracy: 0.9641\n",
      "Epoch 134/1000\n",
      " 1/30 [>.............................] - ETA: 0s - loss: 0.4489 - accuracy: 0.8281\n",
      "Epoch 134: saving model to model/keypoint_classifier/keypoint_classifier.hdf5\n",
      "30/30 [==============================] - 0s 834us/step - loss: 0.5085 - accuracy: 0.8116 - val_loss: 0.2000 - val_accuracy: 0.9641\n",
      "Epoch 135/1000\n",
      " 1/30 [>.............................] - ETA: 0s - loss: 0.5759 - accuracy: 0.8125\n",
      "Epoch 135: saving model to model/keypoint_classifier/keypoint_classifier.hdf5\n",
      "30/30 [==============================] - 0s 837us/step - loss: 0.5109 - accuracy: 0.8043 - val_loss: 0.2011 - val_accuracy: 0.9633\n",
      "Epoch 136/1000\n",
      " 1/30 [>.............................] - ETA: 0s - loss: 0.5151 - accuracy: 0.7734\n",
      "Epoch 136: saving model to model/keypoint_classifier/keypoint_classifier.hdf5\n",
      "30/30 [==============================] - 0s 870us/step - loss: 0.5437 - accuracy: 0.7986 - val_loss: 0.2001 - val_accuracy: 0.9633\n",
      "Epoch 137/1000\n",
      " 1/30 [>.............................] - ETA: 0s - loss: 0.5340 - accuracy: 0.7656\n",
      "Epoch 137: saving model to model/keypoint_classifier/keypoint_classifier.hdf5\n",
      "30/30 [==============================] - 0s 820us/step - loss: 0.5136 - accuracy: 0.8043 - val_loss: 0.1980 - val_accuracy: 0.9656\n",
      "Epoch 138/1000\n",
      " 1/30 [>.............................] - ETA: 0s - loss: 0.5914 - accuracy: 0.7656\n",
      "Epoch 138: saving model to model/keypoint_classifier/keypoint_classifier.hdf5\n",
      "30/30 [==============================] - 0s 877us/step - loss: 0.5222 - accuracy: 0.8093 - val_loss: 0.1958 - val_accuracy: 0.9641\n",
      "Epoch 139/1000\n",
      " 1/30 [>.............................] - ETA: 0s - loss: 0.5341 - accuracy: 0.7734\n",
      "Epoch 139: saving model to model/keypoint_classifier/keypoint_classifier.hdf5\n",
      "30/30 [==============================] - 0s 845us/step - loss: 0.5347 - accuracy: 0.8054 - val_loss: 0.1966 - val_accuracy: 0.9633\n",
      "Epoch 140/1000\n",
      " 1/30 [>.............................] - ETA: 0s - loss: 0.4734 - accuracy: 0.8125\n",
      "Epoch 140: saving model to model/keypoint_classifier/keypoint_classifier.hdf5\n",
      "30/30 [==============================] - 0s 826us/step - loss: 0.5371 - accuracy: 0.8028 - val_loss: 0.2021 - val_accuracy: 0.9648\n",
      "Epoch 141/1000\n",
      " 1/30 [>.............................] - ETA: 0s - loss: 0.5128 - accuracy: 0.8281\n",
      "Epoch 141: saving model to model/keypoint_classifier/keypoint_classifier.hdf5\n",
      "30/30 [==============================] - 0s 842us/step - loss: 0.5089 - accuracy: 0.8061 - val_loss: 0.1963 - val_accuracy: 0.9656\n",
      "Epoch 142/1000\n",
      " 1/30 [>.............................] - ETA: 0s - loss: 0.4761 - accuracy: 0.8203\n",
      "Epoch 142: saving model to model/keypoint_classifier/keypoint_classifier.hdf5\n",
      "30/30 [==============================] - 0s 837us/step - loss: 0.5289 - accuracy: 0.8033 - val_loss: 0.1966 - val_accuracy: 0.9641\n",
      "Epoch 143/1000\n",
      " 1/30 [>.............................] - ETA: 0s - loss: 0.4990 - accuracy: 0.8359\n",
      "Epoch 143: saving model to model/keypoint_classifier/keypoint_classifier.hdf5\n",
      "30/30 [==============================] - 0s 864us/step - loss: 0.5219 - accuracy: 0.8017 - val_loss: 0.1958 - val_accuracy: 0.9656\n",
      "Epoch 144/1000\n",
      " 1/30 [>.............................] - ETA: 0s - loss: 0.4398 - accuracy: 0.8438\n",
      "Epoch 144: saving model to model/keypoint_classifier/keypoint_classifier.hdf5\n",
      "30/30 [==============================] - 0s 828us/step - loss: 0.5098 - accuracy: 0.8101 - val_loss: 0.2009 - val_accuracy: 0.9648\n",
      "Epoch 145/1000\n",
      " 1/30 [>.............................] - ETA: 0s - loss: 0.5002 - accuracy: 0.8125\n",
      "Epoch 145: saving model to model/keypoint_classifier/keypoint_classifier.hdf5\n",
      "30/30 [==============================] - 0s 863us/step - loss: 0.4936 - accuracy: 0.8202 - val_loss: 0.1948 - val_accuracy: 0.9641\n",
      "Epoch 146/1000\n",
      " 1/30 [>.............................] - ETA: 0s - loss: 0.4464 - accuracy: 0.8047\n",
      "Epoch 146: saving model to model/keypoint_classifier/keypoint_classifier.hdf5\n",
      "30/30 [==============================] - 0s 876us/step - loss: 0.5215 - accuracy: 0.8012 - val_loss: 0.1936 - val_accuracy: 0.9641\n",
      "Epoch 147/1000\n",
      " 1/30 [>.............................] - ETA: 0s - loss: 0.5961 - accuracy: 0.7812\n",
      "Epoch 147: saving model to model/keypoint_classifier/keypoint_classifier.hdf5\n",
      "30/30 [==============================] - 0s 858us/step - loss: 0.5130 - accuracy: 0.8043 - val_loss: 0.2039 - val_accuracy: 0.9609\n",
      "Epoch 148/1000\n",
      " 1/30 [>.............................] - ETA: 0s - loss: 0.6212 - accuracy: 0.7500\n",
      "Epoch 148: saving model to model/keypoint_classifier/keypoint_classifier.hdf5\n",
      "30/30 [==============================] - 0s 835us/step - loss: 0.5100 - accuracy: 0.8116 - val_loss: 0.1938 - val_accuracy: 0.9625\n",
      "Epoch 149/1000\n",
      " 1/30 [>.............................] - ETA: 0s - loss: 0.6079 - accuracy: 0.7578\n",
      "Epoch 149: saving model to model/keypoint_classifier/keypoint_classifier.hdf5\n",
      "30/30 [==============================] - 0s 849us/step - loss: 0.5110 - accuracy: 0.8129 - val_loss: 0.1955 - val_accuracy: 0.9617\n",
      "Epoch 150/1000\n",
      " 1/30 [>.............................] - ETA: 0s - loss: 0.5882 - accuracy: 0.8047\n",
      "Epoch 150: saving model to model/keypoint_classifier/keypoint_classifier.hdf5\n",
      "30/30 [==============================] - 0s 823us/step - loss: 0.5361 - accuracy: 0.8017 - val_loss: 0.2044 - val_accuracy: 0.9641\n",
      "Epoch 151/1000\n",
      " 1/30 [>.............................] - ETA: 0s - loss: 0.4395 - accuracy: 0.8125\n",
      "Epoch 151: saving model to model/keypoint_classifier/keypoint_classifier.hdf5\n",
      "30/30 [==============================] - 0s 870us/step - loss: 0.5172 - accuracy: 0.8075 - val_loss: 0.1924 - val_accuracy: 0.9641\n",
      "Epoch 152/1000\n",
      " 1/30 [>.............................] - ETA: 0s - loss: 0.5270 - accuracy: 0.7969\n",
      "Epoch 152: saving model to model/keypoint_classifier/keypoint_classifier.hdf5\n",
      "30/30 [==============================] - 0s 846us/step - loss: 0.5142 - accuracy: 0.8048 - val_loss: 0.1956 - val_accuracy: 0.9664\n",
      "Epoch 153/1000\n",
      " 1/30 [>.............................] - ETA: 0s - loss: 0.4866 - accuracy: 0.8359\n",
      "Epoch 153: saving model to model/keypoint_classifier/keypoint_classifier.hdf5\n",
      "30/30 [==============================] - 0s 852us/step - loss: 0.5192 - accuracy: 0.8093 - val_loss: 0.1994 - val_accuracy: 0.9656\n",
      "Epoch 154/1000\n",
      " 1/30 [>.............................] - ETA: 0s - loss: 0.5294 - accuracy: 0.7812\n",
      "Epoch 154: saving model to model/keypoint_classifier/keypoint_classifier.hdf5\n",
      "30/30 [==============================] - 0s 837us/step - loss: 0.5100 - accuracy: 0.8174 - val_loss: 0.1955 - val_accuracy: 0.9664\n",
      "Epoch 155/1000\n",
      " 1/30 [>.............................] - ETA: 0s - loss: 0.5753 - accuracy: 0.7969\n",
      "Epoch 155: saving model to model/keypoint_classifier/keypoint_classifier.hdf5\n",
      "30/30 [==============================] - 0s 850us/step - loss: 0.5372 - accuracy: 0.7965 - val_loss: 0.1947 - val_accuracy: 0.9625\n",
      "Epoch 156/1000\n",
      " 1/30 [>.............................] - ETA: 0s - loss: 0.5711 - accuracy: 0.8281\n",
      "Epoch 156: saving model to model/keypoint_classifier/keypoint_classifier.hdf5\n",
      "30/30 [==============================] - 0s 848us/step - loss: 0.5055 - accuracy: 0.8181 - val_loss: 0.1919 - val_accuracy: 0.9641\n",
      "Epoch 157/1000\n",
      " 1/30 [>.............................] - ETA: 0s - loss: 0.6476 - accuracy: 0.8047\n",
      "Epoch 157: saving model to model/keypoint_classifier/keypoint_classifier.hdf5\n",
      "30/30 [==============================] - 0s 850us/step - loss: 0.5225 - accuracy: 0.8051 - val_loss: 0.1965 - val_accuracy: 0.9617\n",
      "Epoch 158/1000\n",
      " 1/30 [>.............................] - ETA: 0s - loss: 0.5507 - accuracy: 0.7812\n",
      "Epoch 158: saving model to model/keypoint_classifier/keypoint_classifier.hdf5\n",
      "30/30 [==============================] - 0s 853us/step - loss: 0.5223 - accuracy: 0.8064 - val_loss: 0.1988 - val_accuracy: 0.9617\n",
      "Epoch 159/1000\n",
      " 1/30 [>.............................] - ETA: 0s - loss: 0.4701 - accuracy: 0.8438\n",
      "Epoch 159: saving model to model/keypoint_classifier/keypoint_classifier.hdf5\n",
      "30/30 [==============================] - 0s 844us/step - loss: 0.4963 - accuracy: 0.8155 - val_loss: 0.1947 - val_accuracy: 0.9641\n",
      "Epoch 160/1000\n",
      " 1/30 [>.............................] - ETA: 0s - loss: 0.3803 - accuracy: 0.8672\n",
      "Epoch 160: saving model to model/keypoint_classifier/keypoint_classifier.hdf5\n",
      "30/30 [==============================] - 0s 852us/step - loss: 0.5162 - accuracy: 0.8145 - val_loss: 0.1957 - val_accuracy: 0.9617\n",
      "Epoch 161/1000\n",
      " 1/30 [>.............................] - ETA: 0s - loss: 0.4872 - accuracy: 0.8516\n",
      "Epoch 161: saving model to model/keypoint_classifier/keypoint_classifier.hdf5\n",
      "30/30 [==============================] - 0s 857us/step - loss: 0.5001 - accuracy: 0.8189 - val_loss: 0.1965 - val_accuracy: 0.9625\n",
      "Epoch 162/1000\n",
      " 1/30 [>.............................] - ETA: 0s - loss: 0.6361 - accuracy: 0.7266\n",
      "Epoch 162: saving model to model/keypoint_classifier/keypoint_classifier.hdf5\n",
      "30/30 [==============================] - 0s 892us/step - loss: 0.5157 - accuracy: 0.8048 - val_loss: 0.1985 - val_accuracy: 0.9656\n",
      "Epoch 163/1000\n",
      " 1/30 [>.............................] - ETA: 0s - loss: 0.5960 - accuracy: 0.7812\n",
      "Epoch 163: saving model to model/keypoint_classifier/keypoint_classifier.hdf5\n",
      "30/30 [==============================] - 0s 884us/step - loss: 0.5072 - accuracy: 0.8080 - val_loss: 0.1980 - val_accuracy: 0.9648\n",
      "Epoch 164/1000\n",
      " 1/30 [>.............................] - ETA: 0s - loss: 0.4657 - accuracy: 0.8359\n",
      "Epoch 164: saving model to model/keypoint_classifier/keypoint_classifier.hdf5\n",
      "30/30 [==============================] - 0s 876us/step - loss: 0.5140 - accuracy: 0.8124 - val_loss: 0.1993 - val_accuracy: 0.9617\n",
      "Epoch 165/1000\n",
      " 1/30 [>.............................] - ETA: 0s - loss: 0.5776 - accuracy: 0.7578\n",
      "Epoch 165: saving model to model/keypoint_classifier/keypoint_classifier.hdf5\n",
      "30/30 [==============================] - 0s 866us/step - loss: 0.5251 - accuracy: 0.8035 - val_loss: 0.1956 - val_accuracy: 0.9609\n",
      "Epoch 166/1000\n",
      " 1/30 [>.............................] - ETA: 0s - loss: 0.5485 - accuracy: 0.8047\n",
      "Epoch 166: saving model to model/keypoint_classifier/keypoint_classifier.hdf5\n",
      "30/30 [==============================] - 0s 845us/step - loss: 0.5119 - accuracy: 0.8072 - val_loss: 0.1916 - val_accuracy: 0.9617\n",
      "Epoch 167/1000\n",
      " 1/30 [>.............................] - ETA: 0s - loss: 0.3582 - accuracy: 0.8672\n",
      "Epoch 167: saving model to model/keypoint_classifier/keypoint_classifier.hdf5\n",
      "30/30 [==============================] - 0s 921us/step - loss: 0.4856 - accuracy: 0.8231 - val_loss: 0.1959 - val_accuracy: 0.9625\n",
      "Epoch 168/1000\n",
      " 1/30 [>.............................] - ETA: 0s - loss: 0.5226 - accuracy: 0.7812\n",
      "Epoch 168: saving model to model/keypoint_classifier/keypoint_classifier.hdf5\n",
      "30/30 [==============================] - 0s 1ms/step - loss: 0.4945 - accuracy: 0.8200 - val_loss: 0.1926 - val_accuracy: 0.9633\n",
      "Epoch 169/1000\n",
      " 1/30 [>.............................] - ETA: 0s - loss: 0.6137 - accuracy: 0.7812\n",
      "Epoch 169: saving model to model/keypoint_classifier/keypoint_classifier.hdf5\n",
      "30/30 [==============================] - 0s 1ms/step - loss: 0.4961 - accuracy: 0.8147 - val_loss: 0.1923 - val_accuracy: 0.9648\n",
      "Epoch 170/1000\n",
      " 1/30 [>.............................] - ETA: 0s - loss: 0.6135 - accuracy: 0.7578\n",
      "Epoch 170: saving model to model/keypoint_classifier/keypoint_classifier.hdf5\n",
      "30/30 [==============================] - 0s 883us/step - loss: 0.5161 - accuracy: 0.8025 - val_loss: 0.1945 - val_accuracy: 0.9633\n",
      "Epoch 171/1000\n",
      " 1/30 [>.............................] - ETA: 0s - loss: 0.4956 - accuracy: 0.8203\n",
      "Epoch 171: saving model to model/keypoint_classifier/keypoint_classifier.hdf5\n",
      "30/30 [==============================] - 0s 915us/step - loss: 0.5156 - accuracy: 0.8088 - val_loss: 0.1895 - val_accuracy: 0.9648\n",
      "Epoch 172/1000\n",
      " 1/30 [>.............................] - ETA: 0s - loss: 0.4619 - accuracy: 0.8047\n",
      "Epoch 172: saving model to model/keypoint_classifier/keypoint_classifier.hdf5\n",
      "30/30 [==============================] - 0s 891us/step - loss: 0.5011 - accuracy: 0.8088 - val_loss: 0.1934 - val_accuracy: 0.9633\n",
      "Epoch 173/1000\n",
      " 1/30 [>.............................] - ETA: 0s - loss: 0.5631 - accuracy: 0.7969\n",
      "Epoch 173: saving model to model/keypoint_classifier/keypoint_classifier.hdf5\n",
      "30/30 [==============================] - 0s 894us/step - loss: 0.5079 - accuracy: 0.8101 - val_loss: 0.1955 - val_accuracy: 0.9609\n",
      "Epoch 174/1000\n",
      " 1/30 [>.............................] - ETA: 0s - loss: 0.5453 - accuracy: 0.8281\n",
      "Epoch 174: saving model to model/keypoint_classifier/keypoint_classifier.hdf5\n",
      "30/30 [==============================] - 0s 1ms/step - loss: 0.4966 - accuracy: 0.8179 - val_loss: 0.1910 - val_accuracy: 0.9633\n",
      "Epoch 175/1000\n",
      " 1/30 [>.............................] - ETA: 0s - loss: 0.4974 - accuracy: 0.8125\n",
      "Epoch 175: saving model to model/keypoint_classifier/keypoint_classifier.hdf5\n",
      "30/30 [==============================] - 0s 939us/step - loss: 0.4945 - accuracy: 0.8153 - val_loss: 0.1898 - val_accuracy: 0.9641\n",
      "Epoch 176/1000\n",
      " 1/30 [>.............................] - ETA: 0s - loss: 0.4829 - accuracy: 0.8359\n",
      "Epoch 176: saving model to model/keypoint_classifier/keypoint_classifier.hdf5\n",
      "30/30 [==============================] - 0s 873us/step - loss: 0.5015 - accuracy: 0.8077 - val_loss: 0.1970 - val_accuracy: 0.9633\n",
      "Epoch 177/1000\n",
      " 1/30 [>.............................] - ETA: 0s - loss: 0.5451 - accuracy: 0.7656\n",
      "Epoch 177: saving model to model/keypoint_classifier/keypoint_classifier.hdf5\n",
      "30/30 [==============================] - 0s 861us/step - loss: 0.4999 - accuracy: 0.8187 - val_loss: 0.1952 - val_accuracy: 0.9586\n",
      "Epoch 178/1000\n",
      " 1/30 [>.............................] - ETA: 0s - loss: 0.4589 - accuracy: 0.8359\n",
      "Epoch 178: saving model to model/keypoint_classifier/keypoint_classifier.hdf5\n",
      "30/30 [==============================] - 0s 882us/step - loss: 0.5071 - accuracy: 0.8127 - val_loss: 0.1923 - val_accuracy: 0.9609\n",
      "Epoch 179/1000\n",
      " 1/30 [>.............................] - ETA: 0s - loss: 0.3832 - accuracy: 0.8438\n",
      "Epoch 179: saving model to model/keypoint_classifier/keypoint_classifier.hdf5\n",
      "30/30 [==============================] - 0s 814us/step - loss: 0.4918 - accuracy: 0.8166 - val_loss: 0.1949 - val_accuracy: 0.9633\n",
      "Epoch 180/1000\n",
      " 1/30 [>.............................] - ETA: 0s - loss: 0.3348 - accuracy: 0.8750\n",
      "Epoch 180: saving model to model/keypoint_classifier/keypoint_classifier.hdf5\n",
      "30/30 [==============================] - 0s 873us/step - loss: 0.5134 - accuracy: 0.8111 - val_loss: 0.2031 - val_accuracy: 0.9586\n",
      "Epoch 181/1000\n",
      " 1/30 [>.............................] - ETA: 0s - loss: 0.5991 - accuracy: 0.7500\n",
      "Epoch 181: saving model to model/keypoint_classifier/keypoint_classifier.hdf5\n",
      "30/30 [==============================] - 0s 863us/step - loss: 0.4970 - accuracy: 0.8174 - val_loss: 0.1944 - val_accuracy: 0.9609\n",
      "Epoch 182/1000\n",
      " 1/30 [>.............................] - ETA: 0s - loss: 0.4041 - accuracy: 0.8516\n",
      "Epoch 182: saving model to model/keypoint_classifier/keypoint_classifier.hdf5\n",
      "30/30 [==============================] - 0s 866us/step - loss: 0.4867 - accuracy: 0.8145 - val_loss: 0.1981 - val_accuracy: 0.9625\n",
      "Epoch 183/1000\n",
      " 1/30 [>.............................] - ETA: 0s - loss: 0.4584 - accuracy: 0.8672\n",
      "Epoch 183: saving model to model/keypoint_classifier/keypoint_classifier.hdf5\n",
      "30/30 [==============================] - 0s 867us/step - loss: 0.5027 - accuracy: 0.8119 - val_loss: 0.1871 - val_accuracy: 0.9625\n",
      "Epoch 184/1000\n",
      " 1/30 [>.............................] - ETA: 0s - loss: 0.5488 - accuracy: 0.7969\n",
      "Epoch 184: saving model to model/keypoint_classifier/keypoint_classifier.hdf5\n",
      "30/30 [==============================] - 0s 862us/step - loss: 0.5065 - accuracy: 0.8075 - val_loss: 0.1917 - val_accuracy: 0.9602\n",
      "Epoch 185/1000\n",
      " 1/30 [>.............................] - ETA: 0s - loss: 0.4666 - accuracy: 0.7969\n",
      "Epoch 185: saving model to model/keypoint_classifier/keypoint_classifier.hdf5\n",
      "30/30 [==============================] - 0s 865us/step - loss: 0.4863 - accuracy: 0.8189 - val_loss: 0.1912 - val_accuracy: 0.9594\n",
      "Epoch 186/1000\n",
      " 1/30 [>.............................] - ETA: 0s - loss: 0.4781 - accuracy: 0.8516\n",
      "Epoch 186: saving model to model/keypoint_classifier/keypoint_classifier.hdf5\n",
      "30/30 [==============================] - 0s 862us/step - loss: 0.4982 - accuracy: 0.8114 - val_loss: 0.1897 - val_accuracy: 0.9641\n",
      "Epoch 187/1000\n",
      " 1/30 [>.............................] - ETA: 0s - loss: 0.4104 - accuracy: 0.8672\n",
      "Epoch 187: saving model to model/keypoint_classifier/keypoint_classifier.hdf5\n",
      "30/30 [==============================] - 0s 888us/step - loss: 0.4936 - accuracy: 0.8200 - val_loss: 0.1880 - val_accuracy: 0.9594\n",
      "Epoch 188/1000\n",
      " 1/30 [>.............................] - ETA: 0s - loss: 0.5046 - accuracy: 0.7969\n",
      "Epoch 188: saving model to model/keypoint_classifier/keypoint_classifier.hdf5\n",
      "30/30 [==============================] - 0s 862us/step - loss: 0.4947 - accuracy: 0.8189 - val_loss: 0.1922 - val_accuracy: 0.9609\n",
      "Epoch 189/1000\n",
      " 1/30 [>.............................] - ETA: 0s - loss: 0.4397 - accuracy: 0.8594\n",
      "Epoch 189: saving model to model/keypoint_classifier/keypoint_classifier.hdf5\n",
      "30/30 [==============================] - 0s 878us/step - loss: 0.5072 - accuracy: 0.8166 - val_loss: 0.1928 - val_accuracy: 0.9586\n",
      "Epoch 190/1000\n",
      " 1/30 [>.............................] - ETA: 0s - loss: 0.4802 - accuracy: 0.7969\n",
      "Epoch 190: saving model to model/keypoint_classifier/keypoint_classifier.hdf5\n",
      "30/30 [==============================] - 0s 888us/step - loss: 0.4888 - accuracy: 0.8246 - val_loss: 0.1941 - val_accuracy: 0.9633\n",
      "Epoch 191/1000\n",
      " 1/30 [>.............................] - ETA: 0s - loss: 0.5130 - accuracy: 0.7969\n",
      "Epoch 191: saving model to model/keypoint_classifier/keypoint_classifier.hdf5\n",
      "30/30 [==============================] - 0s 838us/step - loss: 0.5061 - accuracy: 0.8106 - val_loss: 0.2010 - val_accuracy: 0.9633\n",
      "Epoch 192/1000\n",
      " 1/30 [>.............................] - ETA: 0s - loss: 0.4360 - accuracy: 0.8047\n",
      "Epoch 192: saving model to model/keypoint_classifier/keypoint_classifier.hdf5\n",
      "30/30 [==============================] - 0s 892us/step - loss: 0.5071 - accuracy: 0.8192 - val_loss: 0.1935 - val_accuracy: 0.9602\n",
      "Epoch 193/1000\n",
      " 1/30 [>.............................] - ETA: 0s - loss: 0.4310 - accuracy: 0.8281\n",
      "Epoch 193: saving model to model/keypoint_classifier/keypoint_classifier.hdf5\n",
      "30/30 [==============================] - 0s 868us/step - loss: 0.5082 - accuracy: 0.8101 - val_loss: 0.1974 - val_accuracy: 0.9625\n",
      "Epoch 194/1000\n",
      " 1/30 [>.............................] - ETA: 0s - loss: 0.4375 - accuracy: 0.8828\n",
      "Epoch 194: saving model to model/keypoint_classifier/keypoint_classifier.hdf5\n",
      "30/30 [==============================] - 0s 963us/step - loss: 0.4896 - accuracy: 0.8244 - val_loss: 0.1945 - val_accuracy: 0.9617\n",
      "Epoch 195/1000\n",
      " 1/30 [>.............................] - ETA: 0s - loss: 0.4568 - accuracy: 0.8359\n",
      "Epoch 195: saving model to model/keypoint_classifier/keypoint_classifier.hdf5\n",
      "30/30 [==============================] - 0s 972us/step - loss: 0.4722 - accuracy: 0.8226 - val_loss: 0.1882 - val_accuracy: 0.9625\n",
      "Epoch 196/1000\n",
      " 1/30 [>.............................] - ETA: 0s - loss: 0.3521 - accuracy: 0.8828\n",
      "Epoch 196: saving model to model/keypoint_classifier/keypoint_classifier.hdf5\n",
      "30/30 [==============================] - 0s 916us/step - loss: 0.4969 - accuracy: 0.8137 - val_loss: 0.1899 - val_accuracy: 0.9602\n",
      "Epoch 197/1000\n",
      " 1/30 [>.............................] - ETA: 0s - loss: 0.5338 - accuracy: 0.7891\n",
      "Epoch 197: saving model to model/keypoint_classifier/keypoint_classifier.hdf5\n",
      "30/30 [==============================] - 0s 895us/step - loss: 0.5111 - accuracy: 0.8134 - val_loss: 0.1907 - val_accuracy: 0.9609\n",
      "Epoch 198/1000\n",
      " 1/30 [>.............................] - ETA: 0s - loss: 0.3767 - accuracy: 0.8594\n",
      "Epoch 198: saving model to model/keypoint_classifier/keypoint_classifier.hdf5\n",
      "30/30 [==============================] - 0s 875us/step - loss: 0.5009 - accuracy: 0.8137 - val_loss: 0.1975 - val_accuracy: 0.9617\n",
      "Epoch 199/1000\n",
      " 1/30 [>.............................] - ETA: 0s - loss: 0.5297 - accuracy: 0.7969\n",
      "Epoch 199: saving model to model/keypoint_classifier/keypoint_classifier.hdf5\n",
      "30/30 [==============================] - 0s 881us/step - loss: 0.4944 - accuracy: 0.8218 - val_loss: 0.1979 - val_accuracy: 0.9586\n",
      "Epoch 200/1000\n",
      " 1/30 [>.............................] - ETA: 0s - loss: 0.5899 - accuracy: 0.7969\n",
      "Epoch 200: saving model to model/keypoint_classifier/keypoint_classifier.hdf5\n",
      "30/30 [==============================] - 0s 864us/step - loss: 0.4961 - accuracy: 0.8155 - val_loss: 0.1921 - val_accuracy: 0.9594\n",
      "Epoch 201/1000\n",
      " 1/30 [>.............................] - ETA: 0s - loss: 0.5089 - accuracy: 0.8125\n",
      "Epoch 201: saving model to model/keypoint_classifier/keypoint_classifier.hdf5\n",
      "30/30 [==============================] - 0s 841us/step - loss: 0.4937 - accuracy: 0.8158 - val_loss: 0.1916 - val_accuracy: 0.9578\n",
      "Epoch 202/1000\n",
      " 1/30 [>.............................] - ETA: 0s - loss: 0.4997 - accuracy: 0.7734\n",
      "Epoch 202: saving model to model/keypoint_classifier/keypoint_classifier.hdf5\n",
      "30/30 [==============================] - 0s 863us/step - loss: 0.4883 - accuracy: 0.8145 - val_loss: 0.1922 - val_accuracy: 0.9563\n",
      "Epoch 203/1000\n",
      " 1/30 [>.............................] - ETA: 0s - loss: 0.4955 - accuracy: 0.8125\n",
      "Epoch 203: saving model to model/keypoint_classifier/keypoint_classifier.hdf5\n",
      "30/30 [==============================] - 0s 877us/step - loss: 0.5070 - accuracy: 0.8116 - val_loss: 0.1908 - val_accuracy: 0.9617\n",
      "Epoch 203: early stopping\n"
     ]
    },
    {
     "data": {
      "text/plain": [
       "<keras.src.callbacks.History at 0x28cdc4290>"
      ]
     },
     "execution_count": 13,
     "metadata": {},
     "output_type": "execute_result"
    }
   ],
   "source": [
    "model.fit(\n",
    "    X_train,\n",
    "    y_train,\n",
    "    epochs=1000,\n",
    "    batch_size=128,\n",
    "    validation_data=(X_test, y_test),\n",
    "    callbacks=[cp_callback, es_callback]\n",
    ")"
   ]
  },
  {
   "cell_type": "code",
   "execution_count": 14,
   "metadata": {
    "colab": {
     "base_uri": "https://localhost:8080/"
    },
    "id": "pxvb2Y299hE3",
    "outputId": "59eb3185-2e37-4b9e-bc9d-ab1b8ac29b7f"
   },
   "outputs": [
    {
     "name": "stdout",
     "output_type": "stream",
     "text": [
      "10/10 [==============================] - 0s 402us/step - loss: 0.1908 - accuracy: 0.9617\n"
     ]
    }
   ],
   "source": [
    "# Model evaluation\n",
    "val_loss, val_acc = model.evaluate(X_test, y_test, batch_size=128)"
   ]
  },
  {
   "cell_type": "code",
   "execution_count": 15,
   "metadata": {
    "id": "RBkmDeUW9hE4"
   },
   "outputs": [],
   "source": [
    "# Loading the saved model\n",
    "model = tf.keras.models.load_model(model_save_path)"
   ]
  },
  {
   "cell_type": "code",
   "execution_count": 16,
   "metadata": {
    "colab": {
     "base_uri": "https://localhost:8080/"
    },
    "id": "tFz9Tb0I9hE4",
    "outputId": "1c3b3528-54ae-4ee2-ab04-77429211cbef"
   },
   "outputs": [
    {
     "name": "stdout",
     "output_type": "stream",
     "text": [
      "1/1 [==============================] - 0s 38ms/step\n",
      "[9.0402645e-01 9.5124915e-02 8.4842485e-04 1.8837456e-07 2.8583299e-08]\n",
      "0\n"
     ]
    }
   ],
   "source": [
    "# Inference test\n",
    "predict_result = model.predict(np.array([X_test[0]]))\n",
    "print(np.squeeze(predict_result))\n",
    "print(np.argmax(np.squeeze(predict_result)))"
   ]
  },
  {
   "cell_type": "markdown",
   "metadata": {
    "id": "S3U4yNWx9hE4"
   },
   "source": [
    "# Confusion matrix"
   ]
  },
  {
   "cell_type": "code",
   "execution_count": 17,
   "metadata": {
    "colab": {
     "base_uri": "https://localhost:8080/",
     "height": 582
    },
    "id": "AP1V6SCk9hE5",
    "outputId": "08e41a80-7a4a-4619-8125-ecc371368d19"
   },
   "outputs": [
    {
     "name": "stdout",
     "output_type": "stream",
     "text": [
      "40/40 [==============================] - 0s 253us/step\n"
     ]
    },
    {
     "data": {
      "image/png": "[encoded data removed]",
      "text/plain": [
       "<Figure size 700x600 with 2 Axes>"
      ]
     },
     "metadata": {},
     "output_type": "display_data"
    },
    {
     "name": "stdout",
     "output_type": "stream",
     "text": [
      "Classification Report\n",
      "              precision    recall  f1-score   support\n",
      "\n",
      "           0       0.98      0.99      0.98       396\n",
      "           1       0.96      0.92      0.94       367\n",
      "           2       0.94      0.96      0.95       346\n",
      "           3       1.00      0.98      0.99        86\n",
      "           4       0.99      0.99      0.99        85\n",
      "\n",
      "    accuracy                           0.96      1280\n",
      "   macro avg       0.97      0.97      0.97      1280\n",
      "weighted avg       0.96      0.96      0.96      1280\n",
      "\n"
     ]
    }
   ],
   "source": [
    "import pandas as pd\n",
    "import seaborn as sns\n",
    "import matplotlib.pyplot as plt\n",
    "from sklearn.metrics import confusion_matrix, classification_report\n",
    "\n",
    "def print_confusion_matrix(y_true, y_pred, report=True):\n",
    "    labels = sorted(list(set(y_true)))\n",
    "    cmx_data = confusion_matrix(y_true, y_pred, labels=labels)\n",
    "    \n",
    "    df_cmx = pd.DataFrame(cmx_data, index=labels, columns=labels)\n",
    " \n",
    "    fig, ax = plt.subplots(figsize=(7, 6))\n",
    "    sns.heatmap(df_cmx, annot=True, fmt='g' ,square=False)\n",
    "    ax.set_ylim(len(set(y_true)), 0)\n",
    "    plt.show()\n",
    "    \n",
    "    if report:\n",
    "        print('Classification Report')\n",
    "        print(classification_report(y_test, y_pred))\n",
    "\n",
    "Y_pred = model.predict(X_test)\n",
    "y_pred = np.argmax(Y_pred, axis=1)\n",
    "\n",
    "print_confusion_matrix(y_test, y_pred)"
   ]
  },
  {
   "cell_type": "markdown",
   "metadata": {
    "id": "FNP6aqzc9hE5"
   },
   "source": [
    "# Convert to model for Tensorflow-Lite"
   ]
  },
  {
   "cell_type": "code",
   "execution_count": 18,
   "metadata": {
    "id": "ODjnYyld9hE6"
   },
   "outputs": [
    {
     "name": "stderr",
     "output_type": "stream",
     "text": [
      "/Library/Frameworks/Python.framework/Versions/3.11/lib/python3.11/site-packages/keras/src/engine/training.py:3103: UserWarning: You are saving your model as an HDF5 file via `model.save()`. This file format is considered legacy. We recommend using instead the native Keras format, e.g. `model.save('my_model.keras')`.\n",
      "  saving_api.save_model(\n"
     ]
    }
   ],
   "source": [
    "# Save as a model dedicated to inference\n",
    "model.save(model_save_path, include_optimizer=False)"
   ]
  },
  {
   "cell_type": "code",
   "execution_count": 19,
   "metadata": {
    "colab": {
     "base_uri": "https://localhost:8080/"
    },
    "id": "zRfuK8Y59hE6",
    "outputId": "a4ca585c-b5d5-4244-8291-8674063209bb"
   },
   "outputs": [
    {
     "name": "stdout",
     "output_type": "stream",
     "text": [
      "INFO:tensorflow:Assets written to: /var/folders/1h/drj472jn3w3gt2flqpkl14dm0000gn/T/tmp7nmkzeo6/assets\n"
     ]
    },
    {
     "name": "stderr",
     "output_type": "stream",
     "text": [
      "INFO:tensorflow:Assets written to: /var/folders/1h/drj472jn3w3gt2flqpkl14dm0000gn/T/tmp7nmkzeo6/assets\n",
      "2023-11-21 17:51:36.001797: W tensorflow/compiler/mlir/lite/python/tf_tfl_flatbuffer_helpers.cc:378] Ignored output_format.\n",
      "2023-11-21 17:51:36.001991: W tensorflow/compiler/mlir/lite/python/tf_tfl_flatbuffer_helpers.cc:381] Ignored drop_control_dependency.\n",
      "2023-11-21 17:51:36.002813: I tensorflow/cc/saved_model/reader.cc:83] Reading SavedModel from: /var/folders/1h/drj472jn3w3gt2flqpkl14dm0000gn/T/tmp7nmkzeo6\n",
      "2023-11-21 17:51:36.003323: I tensorflow/cc/saved_model/reader.cc:51] Reading meta graph with tags { serve }\n",
      "2023-11-21 17:51:36.003327: I tensorflow/cc/saved_model/reader.cc:146] Reading SavedModel debug info (if present) from: /var/folders/1h/drj472jn3w3gt2flqpkl14dm0000gn/T/tmp7nmkzeo6\n",
      "2023-11-21 17:51:36.005757: I tensorflow/compiler/mlir/mlir_graph_optimization_pass.cc:388] MLIR V1 optimization pass is not enabled\n",
      "2023-11-21 17:51:36.006140: I tensorflow/cc/saved_model/loader.cc:233] Restoring SavedModel bundle.\n",
      "2023-11-21 17:51:36.026593: I tensorflow/cc/saved_model/loader.cc:217] Running initialization op on SavedModel bundle at path: /var/folders/1h/drj472jn3w3gt2flqpkl14dm0000gn/T/tmp7nmkzeo6\n",
      "2023-11-21 17:51:36.031311: I tensorflow/cc/saved_model/loader.cc:316] SavedModel load for tags { serve }; Status: success: OK. Took 28498 microseconds.\n",
      "2023-11-21 17:51:36.060095: I tensorflow/compiler/mlir/tensorflow/utils/dump_mlir_util.cc:269] disabling MLIR crash reproducer, set env var `MLIR_CRASH_REPRODUCER_DIRECTORY` to enable.\n",
      "Summary on the non-converted ops:\n",
      "---------------------------------\n",
      " * Accepted dialects: tfl, builtin, func\n",
      " * Non-Converted Ops: 6, Total Ops 13, % non-converted = 46.15 %\n",
      " * 6 ARITH ops\n",
      "\n",
      "- arith.constant:    6 occurrences  (f32: 6)\n",
      "\n",
      "\n",
      "\n",
      "  (f32: 3)\n",
      "  (f32: 1)\n"
     ]
    },
    {
     "data": {
      "text/plain": [
       "6588"
      ]
     },
     "execution_count": 19,
     "metadata": {},
     "output_type": "execute_result"
    }
   ],
   "source": [
    "# Transform model (quantization)\n",
    "\n",
    "converter = tf.lite.TFLiteConverter.from_keras_model(model)\n",
    "converter.optimizations = [tf.lite.Optimize.DEFAULT]\n",
    "tflite_quantized_model = converter.convert()\n",
    "\n",
    "open(tflite_save_path, 'wb').write(tflite_quantized_model)"
   ]
  },
  {
   "cell_type": "markdown",
   "metadata": {
    "id": "CHBPBXdx9hE6"
   },
   "source": [
    "# Inference test"
   ]
  },
  {
   "cell_type": "code",
   "execution_count": 20,
   "metadata": {
    "id": "mGAzLocO9hE7"
   },
   "outputs": [
    {
     "name": "stderr",
     "output_type": "stream",
     "text": [
      "INFO: Created TensorFlow Lite XNNPACK delegate for CPU.\n"
     ]
    }
   ],
   "source": [
    "interpreter = tf.lite.Interpreter(model_path=tflite_save_path)\n",
    "interpreter.allocate_tensors()"
   ]
  },
  {
   "cell_type": "code",
   "execution_count": 21,
   "metadata": {
    "id": "oQuDK8YS9hE7"
   },
   "outputs": [],
   "source": [
    "# Get I / O tensor\n",
    "input_details = interpreter.get_input_details()\n",
    "output_details = interpreter.get_output_details()"
   ]
  },
  {
   "cell_type": "code",
   "execution_count": 22,
   "metadata": {
    "id": "2_ixAf_l9hE7"
   },
   "outputs": [],
   "source": [
    "interpreter.set_tensor(input_details[0]['index'], np.array([X_test[0]]))"
   ]
  },
  {
   "cell_type": "code",
   "execution_count": 23,
   "metadata": {
    "colab": {
     "base_uri": "https://localhost:8080/"
    },
    "id": "s4FoAnuc9hE7",
    "outputId": "91f18257-8d8b-4ef3-c558-e9b5f94fabbf",
    "scrolled": true
   },
   "outputs": [
    {
     "name": "stdout",
     "output_type": "stream",
     "text": [
      "CPU times: user 258 µs, sys: 931 µs, total: 1.19 ms\n",
      "Wall time: 3.05 ms\n"
     ]
    }
   ],
   "source": [
    "%%time\n",
    "# Inference implementation\n",
    "interpreter.invoke()\n",
    "tflite_results = interpreter.get_tensor(output_details[0]['index'])"
   ]
  },
  {
   "cell_type": "code",
   "execution_count": 24,
   "metadata": {
    "colab": {
     "base_uri": "https://localhost:8080/"
    },
    "id": "vONjp19J9hE8",
    "outputId": "77205e24-fd00-42c4-f7b6-e06e527c2cba"
   },
   "outputs": [
    {
     "name": "stdout",
     "output_type": "stream",
     "text": [
      "[9.0402657e-01 9.5124900e-02 8.4842532e-04 1.8837514e-07 2.8583361e-08]\n",
      "0\n"
     ]
    }
   ],
   "source": [
    "print(np.squeeze(tflite_results))\n",
    "print(np.argmax(np.squeeze(tflite_results)))"
   ]
  }
 ],
 "metadata": {
  "accelerator": "GPU",
  "colab": {
   "collapsed_sections": [],
   "name": "keypoint_classification_EN.ipynb",
   "provenance": [],
   "toc_visible": true
  },
  "kernelspec": {
   "display_name": "Python 3 (ipykernel)",
   "language": "python",
   "name": "python3"
  },
  "language_info": {
   "codemirror_mode": {
    "name": "ipython",
    "version": 3
   },
   "file_extension": ".py",
   "mimetype": "text/x-python",
   "name": "python",
   "nbconvert_exporter": "python",
   "pygments_lexer": "ipython3",
   "version": "3.11.5"
  }
 },
 "nbformat": 4,
 "nbformat_minor": 4
}
